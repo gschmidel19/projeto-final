{
 "cells": [
  {
   "cell_type": "markdown",
   "metadata": {
    "id": "eAkbw7Ueuj8X"
   },
   "source": [
    "# Qual é o melhor plano?\n",
    "\n",
    "Você trabalha como analista para a empresa de telecomunicações Megaline. A empresa oferece aos clientes dois planos pré-pagos: Surf e Ultimate. O departamento comercial quer saber qual dos planos gera mais receita para ajustar o orçamento de publicidade.\n",
    "\n",
    "Você vai realizar uma análise preliminar dos planos com base em uma pequena seleção de clientes. Você terá dados de 500 clientes da Megaline: que clientes são, de onde eles são, qual plano usam e o número de chamadas e mensagens realizadas em 2018. Seu trabalho é analisar o comportamento dos clientes e determinar qual plano pré-pago gera mais receita."
   ]
  },
  {
   "cell_type": "markdown",
   "metadata": {
    "id": "Z_iOKMX_uj8a"
   },
   "source": [
    "[Fornecemos alguns comentários para guiar sua linha de raciocínio enquanto você trabalha neste projeto. Entretanto, certifique-se de remover todos os comentários entre colchetes antes de enviar o projeto.]\n",
    "\n",
    "[Antes de começar a análise dos dados, explique com suas próprias palavras o propósito do projeto e as ações que planeja realizar.]\n",
    "\n",
    "[Tenha em mente que estudar, modificar e analisar dados é um processo iterativo. É normal retornar a etapas anteriores e corrigir/expandir algo para permitir as próximas etapas.]"
   ]
  },
  {
   "cell_type": "markdown",
   "metadata": {
    "id": "lnomf-3Xuj8b"
   },
   "source": [
    "## Inicialização"
   ]
  },
  {
   "cell_type": "code",
   "execution_count": 1,
   "metadata": {
    "id": "JdJusn5ouj8c",
    "trusted": true
   },
   "outputs": [],
   "source": [
    "import pandas as pd\n",
    "import numpy as np\n",
    "import matplotlib.pyplot as plt\n",
    "# Carregando todas as bibliotecas"
   ]
  },
  {
   "cell_type": "markdown",
   "metadata": {
    "id": "rzqsCrgquj8d"
   },
   "source": [
    "## Carregue os dados"
   ]
  },
  {
   "cell_type": "code",
   "execution_count": 2,
   "metadata": {
    "id": "HmzmQRXIuj8e",
    "trusted": true
   },
   "outputs": [],
   "source": [
    "calls_df = pd.read_csv('/datasets/megaline_calls.csv')\n",
    "internet_df = pd.read_csv('/datasets/megaline_internet.csv')\n",
    "messages_df = pd.read_csv('/datasets/megaline_messages.csv')\n",
    "plans_df = pd.read_csv('/datasets/megaline_plans.csv')\n",
    "users_df = pd.read_csv('/datasets/megaline_users.csv')\n",
    "# Carregue os arquivos de dados em diferentes DataFrames"
   ]
  },
  {
   "cell_type": "markdown",
   "metadata": {
    "id": "XQh-EeiIuj8e"
   },
   "source": [
    "## Prepare os dados"
   ]
  },
  {
   "cell_type": "markdown",
   "metadata": {
    "id": "TlZUw_Cyuj8f"
   },
   "source": [
    "## Planos"
   ]
  },
  {
   "cell_type": "code",
   "execution_count": 3,
   "metadata": {
    "id": "x9qB5mAOuj8f",
    "trusted": true
   },
   "outputs": [
    {
     "name": "stdout",
     "output_type": "stream",
     "text": [
      "<class 'pandas.core.frame.DataFrame'>\n",
      "RangeIndex: 137735 entries, 0 to 137734\n",
      "Data columns (total 4 columns):\n",
      " #   Column     Non-Null Count   Dtype  \n",
      "---  ------     --------------   -----  \n",
      " 0   id         137735 non-null  object \n",
      " 1   user_id    137735 non-null  int64  \n",
      " 2   call_date  137735 non-null  object \n",
      " 3   duration   137735 non-null  float64\n",
      "dtypes: float64(1), int64(1), object(2)\n",
      "memory usage: 4.2+ MB\n",
      "<class 'pandas.core.frame.DataFrame'>\n",
      "RangeIndex: 104825 entries, 0 to 104824\n",
      "Data columns (total 4 columns):\n",
      " #   Column        Non-Null Count   Dtype  \n",
      "---  ------        --------------   -----  \n",
      " 0   id            104825 non-null  object \n",
      " 1   user_id       104825 non-null  int64  \n",
      " 2   session_date  104825 non-null  object \n",
      " 3   mb_used       104825 non-null  float64\n",
      "dtypes: float64(1), int64(1), object(2)\n",
      "memory usage: 3.2+ MB\n",
      "<class 'pandas.core.frame.DataFrame'>\n",
      "RangeIndex: 76051 entries, 0 to 76050\n",
      "Data columns (total 3 columns):\n",
      " #   Column        Non-Null Count  Dtype \n",
      "---  ------        --------------  ----- \n",
      " 0   id            76051 non-null  object\n",
      " 1   user_id       76051 non-null  int64 \n",
      " 2   message_date  76051 non-null  object\n",
      "dtypes: int64(1), object(2)\n",
      "memory usage: 1.7+ MB\n",
      "<class 'pandas.core.frame.DataFrame'>\n",
      "RangeIndex: 2 entries, 0 to 1\n",
      "Data columns (total 8 columns):\n",
      " #   Column                 Non-Null Count  Dtype  \n",
      "---  ------                 --------------  -----  \n",
      " 0   messages_included      2 non-null      int64  \n",
      " 1   mb_per_month_included  2 non-null      int64  \n",
      " 2   minutes_included       2 non-null      int64  \n",
      " 3   usd_monthly_pay        2 non-null      int64  \n",
      " 4   usd_per_gb             2 non-null      int64  \n",
      " 5   usd_per_message        2 non-null      float64\n",
      " 6   usd_per_minute         2 non-null      float64\n",
      " 7   plan_name              2 non-null      object \n",
      "dtypes: float64(2), int64(5), object(1)\n",
      "memory usage: 256.0+ bytes\n",
      "<class 'pandas.core.frame.DataFrame'>\n",
      "RangeIndex: 500 entries, 0 to 499\n",
      "Data columns (total 8 columns):\n",
      " #   Column      Non-Null Count  Dtype \n",
      "---  ------      --------------  ----- \n",
      " 0   user_id     500 non-null    int64 \n",
      " 1   first_name  500 non-null    object\n",
      " 2   last_name   500 non-null    object\n",
      " 3   age         500 non-null    int64 \n",
      " 4   city        500 non-null    object\n",
      " 5   reg_date    500 non-null    object\n",
      " 6   plan        500 non-null    object\n",
      " 7   churn_date  34 non-null     object\n",
      "dtypes: int64(2), object(6)\n",
      "memory usage: 31.4+ KB\n"
     ]
    }
   ],
   "source": [
    "calls_df.info()\n",
    "internet_df.info()\n",
    "messages_df.info()\n",
    "plans_df.info()\n",
    "users_df.info()\n",
    "# Imprima informações gerais/resumo sobre o DataFrame dos planos"
   ]
  },
  {
   "cell_type": "code",
   "execution_count": 4,
   "metadata": {
    "id": "9MRo7tyVuj8f",
    "trusted": true
   },
   "outputs": [
    {
     "name": "stdout",
     "output_type": "stream",
     "text": [
      "         id  user_id   call_date  duration\n",
      "0   1000_93     1000  2018-12-27      8.52\n",
      "1  1000_145     1000  2018-12-27     13.66\n",
      "2  1000_247     1000  2018-12-27     14.48\n",
      "3  1000_309     1000  2018-12-28      5.76\n",
      "4  1000_380     1000  2018-12-30      4.22\n",
      "         id  user_id session_date  mb_used\n",
      "0   1000_13     1000   2018-12-29    89.86\n",
      "1  1000_204     1000   2018-12-31     0.00\n",
      "2  1000_379     1000   2018-12-28   660.40\n",
      "3  1000_413     1000   2018-12-26   270.99\n",
      "4  1000_442     1000   2018-12-27   880.22\n",
      "         id  user_id message_date\n",
      "0  1000_125     1000   2018-12-27\n",
      "1  1000_160     1000   2018-12-31\n",
      "2  1000_223     1000   2018-12-31\n",
      "3  1000_251     1000   2018-12-27\n",
      "4  1000_255     1000   2018-12-26\n",
      "   messages_included  mb_per_month_included  minutes_included  \\\n",
      "0                 50                  15360               500   \n",
      "1               1000                  30720              3000   \n",
      "\n",
      "   usd_monthly_pay  usd_per_gb  usd_per_message  usd_per_minute plan_name  \n",
      "0               20          10             0.03            0.03      surf  \n",
      "1               70           7             0.01            0.01  ultimate  \n",
      "   user_id first_name  last_name  age                                   city  \\\n",
      "0     1000   Anamaria      Bauer   45  Atlanta-Sandy Springs-Roswell, GA MSA   \n",
      "1     1001     Mickey  Wilkerson   28        Seattle-Tacoma-Bellevue, WA MSA   \n",
      "2     1002     Carlee    Hoffman   36   Las Vegas-Henderson-Paradise, NV MSA   \n",
      "3     1003   Reynaldo    Jenkins   52                          Tulsa, OK MSA   \n",
      "4     1004    Leonila   Thompson   40        Seattle-Tacoma-Bellevue, WA MSA   \n",
      "\n",
      "     reg_date      plan churn_date  \n",
      "0  2018-12-24  ultimate        NaN  \n",
      "1  2018-08-13      surf        NaN  \n",
      "2  2018-10-21      surf        NaN  \n",
      "3  2018-01-28      surf        NaN  \n",
      "4  2018-05-23      surf        NaN  \n"
     ]
    }
   ],
   "source": [
    "print(calls_df.head())\n",
    "print(internet_df.head())\n",
    "print(messages_df.head())\n",
    "print(plans_df.head())\n",
    "print(users_df.head())\n",
    "# Imprima uma amostra de dados dos planos"
   ]
  },
  {
   "cell_type": "markdown",
   "metadata": {
    "id": "P8hzr-lquj8f"
   },
   "source": [
    "[Descreva o que você nota sobre as informações gerais e sobre a amostra de dados impressa acima. Existem problemas (tipos de dados inadequados, dados ausentes, etc.) que precisam de mais investigação e alterações? Como isso pode ser corrigido?]\n",
    "\n",
    "1. plans_df - Os tipos estão adequados: preços como float ou int, e o nome do plano como object. Não há valores ausentes, e como só existem 2 planos (surf e ultimate), esse DataFrame é mais de apoio (referência).\n",
    "\n",
    "2. calls_df - Problemas: - `call_date` está como `object` (string), mas deveria ser `datetime`.\n",
    "correção: calls_df['call_date'] = pd.to_datetime(calls_df['call_date'])\n",
    "\n",
    "\n",
    "3. internet_df -Problemas:\n",
    "- `session_date` também está como `object` e deveria ser `datetime`.\n",
    "correção : internet_df['session_date'] = pd.to_datetime(internet_df['session_date'])\n",
    "\n",
    "4. messages_df - Problemas:\n",
    "- `message_date` está como `object`, deve ser convertido para `datetime`.\n",
    "correção messages_df['message_date'] = pd.to_datetime(messages_df['message_date'])\n",
    "\n",
    "5. users_df - Problemas:\n",
    "- `reg_date` e `churn_date` estão como `object` — devem ser `datetime`.\n",
    "- `churn_date` tem **muitos valores ausentes** (só 34 não-nulos).\n",
    "correção: \n",
    "    users_df['reg_date'] = pd.to_datetime(users_df['reg_date'])\n",
    "    users_df['churn_date'] = pd.to_datetime(users_df['churn_date'])\n",
    "    \n",
    "Sobre os valores ausentes em churn_date: isso provavelmente indica que a maioria dos usuários ainda está ativa, então faz sentido esses NaN. "
   ]
  },
  {
   "cell_type": "markdown",
   "metadata": {
    "id": "KXtaxmKsuj8f"
   },
   "source": [
    "## Corrija os dados"
   ]
  },
  {
   "cell_type": "code",
   "execution_count": 5,
   "metadata": {
    "id": "Hen8bhG1uj8g",
    "trusted": true
   },
   "outputs": [
    {
     "name": "stdout",
     "output_type": "stream",
     "text": [
      "calls_df: id                   object\n",
      "user_id               int64\n",
      "call_date    datetime64[ns]\n",
      "duration            float64\n",
      "dtype: object\n",
      "internet_df: id                      object\n",
      "user_id                  int64\n",
      "session_date    datetime64[ns]\n",
      "mb_used                float64\n",
      "dtype: object\n",
      "messages_df: id                      object\n",
      "user_id                  int64\n",
      "message_date    datetime64[ns]\n",
      "dtype: object\n"
     ]
    }
   ],
   "source": [
    "calls_df['call_date'] = pd.to_datetime(calls_df['call_date'])\n",
    "internet_df['session_date'] = pd.to_datetime(internet_df['session_date'])\n",
    "messages_df['message_date'] = pd.to_datetime(messages_df['message_date'])\n",
    "users_df['reg_date'] = pd.to_datetime(users_df['reg_date'])\n",
    "users_df['churn_date'] = pd.to_datetime(users_df['churn_date'])\n",
    "\n",
    "print(\"calls_df:\", calls_df.dtypes)\n",
    "print(\"internet_df:\", internet_df.dtypes)\n",
    "print(\"messages_df:\", messages_df.dtypes)\n"
   ]
  },
  {
   "cell_type": "markdown",
   "metadata": {
    "id": "kLcdKu6Duj8g"
   },
   "source": [
    "## Enriqueça os dados"
   ]
  },
  {
   "cell_type": "code",
   "execution_count": 6,
   "metadata": {
    "id": "6j4XA9_ruj8g",
    "trusted": true
   },
   "outputs": [],
   "source": [
    "#Duração em minutos inteiros (chamadas)\n",
    "calls_df['duration_ceil'] = np.ceil(calls_df['duration']).astype(int)\n",
    "\n",
    "#Tipo de plano\n",
    "users_df['plan_type'] = users_df['plan'].str.capitalize()\n",
    "\n",
    "#Mês de uso\n",
    "calls_df['month'] = calls_df['call_date'].dt.to_period('M')\n",
    "internet_df['month'] = internet_df['session_date'].dt.to_period('M')\n",
    "messages_df['month'] = messages_df['message_date'].dt.to_period('M')\n",
    "users_df['reg_month'] = users_df['reg_date'].dt.to_period('M')\n"
   ]
  },
  {
   "cell_type": "markdown",
   "metadata": {
    "id": "YJg2O9qjuj8g"
   },
   "source": [
    "## Usuários"
   ]
  },
  {
   "cell_type": "code",
   "execution_count": 7,
   "metadata": {
    "id": "7JzxwD2juj8g",
    "trusted": true
   },
   "outputs": [
    {
     "name": "stdout",
     "output_type": "stream",
     "text": [
      "<class 'pandas.core.frame.DataFrame'>\n",
      "RangeIndex: 500 entries, 0 to 499\n",
      "Data columns (total 10 columns):\n",
      " #   Column      Non-Null Count  Dtype         \n",
      "---  ------      --------------  -----         \n",
      " 0   user_id     500 non-null    int64         \n",
      " 1   first_name  500 non-null    object        \n",
      " 2   last_name   500 non-null    object        \n",
      " 3   age         500 non-null    int64         \n",
      " 4   city        500 non-null    object        \n",
      " 5   reg_date    500 non-null    datetime64[ns]\n",
      " 6   plan        500 non-null    object        \n",
      " 7   churn_date  34 non-null     datetime64[ns]\n",
      " 8   plan_type   500 non-null    object        \n",
      " 9   reg_month   500 non-null    period[M]     \n",
      "dtypes: datetime64[ns](2), int64(2), object(5), period[M](1)\n",
      "memory usage: 39.2+ KB\n",
      "None\n"
     ]
    }
   ],
   "source": [
    "print(users_df.info())# Imprima informações gerais/resumo sobre o DataFrame dos usuários\n",
    "\n"
   ]
  },
  {
   "cell_type": "code",
   "execution_count": 8,
   "metadata": {
    "id": "5KZ8XmD8uj8g",
    "trusted": true
   },
   "outputs": [
    {
     "name": "stdout",
     "output_type": "stream",
     "text": [
      "   user_id first_name  last_name  age                                   city  \\\n",
      "0     1000   Anamaria      Bauer   45  Atlanta-Sandy Springs-Roswell, GA MSA   \n",
      "1     1001     Mickey  Wilkerson   28        Seattle-Tacoma-Bellevue, WA MSA   \n",
      "2     1002     Carlee    Hoffman   36   Las Vegas-Henderson-Paradise, NV MSA   \n",
      "3     1003   Reynaldo    Jenkins   52                          Tulsa, OK MSA   \n",
      "4     1004    Leonila   Thompson   40        Seattle-Tacoma-Bellevue, WA MSA   \n",
      "\n",
      "    reg_date      plan churn_date plan_type reg_month  \n",
      "0 2018-12-24  ultimate        NaT  Ultimate   2018-12  \n",
      "1 2018-08-13      surf        NaT      Surf   2018-08  \n",
      "2 2018-10-21      surf        NaT      Surf   2018-10  \n",
      "3 2018-01-28      surf        NaT      Surf   2018-01  \n",
      "4 2018-05-23      surf        NaT      Surf   2018-05  \n"
     ]
    }
   ],
   "source": [
    "print(users_df.head())# Imprima uma amostra de dados dos usuários\n",
    "\n"
   ]
  },
  {
   "cell_type": "markdown",
   "metadata": {
    "id": "XGCgkfLvuj8h"
   },
   "source": [
    "[Descreva o que você nota sobre as informações gerais e sobre a amostra de dados impressa acima. Existem problemas (tipos de dados inadequados, dados ausentes, etc.) que precisam de mais investigação e alterações? Como isso pode ser corrigido?]\n",
    "\n",
    " - Nenhum valor ausente nas colunas principais\n",
    "\n",
    " - Colunas como user_id, first_name, last_name, age, city, plan e reg_date estão completas.\n",
    "\n",
    " - Conversão correta de tipos de dados\n",
    "            reg_date e churn_date estão como datetime64[ns] \n",
    "            reg_month como period[M], o que facilita agrupamentos mensais \n",
    "\n",
    " - Criação de colunas \n",
    "            plan_type: formatação capitalizada de plan → bom para agrupamentos/visualização.\n",
    "\n",
    " - reg_month: permite análises mensais de registro.\n",
    "\n"
   ]
  },
  {
   "cell_type": "markdown",
   "metadata": {
    "id": "ppiEfe3luj8i"
   },
   "source": [
    "### Corrija os dados"
   ]
  },
  {
   "cell_type": "code",
   "execution_count": 9,
   "metadata": {
    "id": "Oa1XFooouj8j",
    "trusted": true
   },
   "outputs": [],
   "source": [
    "#churn_date possui muitos valores ausentes\n",
    "users_df['is_active'] = users_df['churn_date'].isna()"
   ]
  },
  {
   "cell_type": "markdown",
   "metadata": {
    "id": "H3gpde3Juj8j"
   },
   "source": [
    "### Enriqueça os dados"
   ]
  },
  {
   "cell_type": "code",
   "execution_count": 10,
   "metadata": {
    "id": "4vuUjT2juj8j",
    "trusted": true
   },
   "outputs": [],
   "source": [
    "#Tempo como cliente (em meses ou dias)\n",
    "today = pd.to_datetime('2019-01-01')\n",
    "users_df['days_as_customer'] = (today - users_df['reg_date']).dt.days"
   ]
  },
  {
   "cell_type": "markdown",
   "metadata": {
    "id": "f4uSIMuuuj8j"
   },
   "source": [
    "## Chamadas"
   ]
  },
  {
   "cell_type": "code",
   "execution_count": 11,
   "metadata": {
    "id": "hkY01fJnuj8j",
    "trusted": true
   },
   "outputs": [
    {
     "name": "stdout",
     "output_type": "stream",
     "text": [
      "             user_id       duration  duration_ceil\n",
      "count  137735.000000  137735.000000  137735.000000\n",
      "mean     1247.658046       6.745927       7.146673\n",
      "std       139.416268       5.839241       5.953919\n",
      "min      1000.000000       0.000000       0.000000\n",
      "25%      1128.000000       1.290000       2.000000\n",
      "50%      1247.000000       5.980000       6.000000\n",
      "75%      1365.000000      10.690000      11.000000\n",
      "max      1499.000000      37.600000      38.000000\n",
      "<class 'pandas.core.frame.DataFrame'>\n",
      "RangeIndex: 137735 entries, 0 to 137734\n",
      "Data columns (total 6 columns):\n",
      " #   Column         Non-Null Count   Dtype         \n",
      "---  ------         --------------   -----         \n",
      " 0   id             137735 non-null  object        \n",
      " 1   user_id        137735 non-null  int64         \n",
      " 2   call_date      137735 non-null  datetime64[ns]\n",
      " 3   duration       137735 non-null  float64       \n",
      " 4   duration_ceil  137735 non-null  int64         \n",
      " 5   month          137735 non-null  period[M]     \n",
      "dtypes: datetime64[ns](1), float64(1), int64(2), object(1), period[M](1)\n",
      "memory usage: 6.3+ MB\n",
      "None\n"
     ]
    }
   ],
   "source": [
    "print(calls_df.describe())\n",
    "print(calls_df.info())\n",
    "# Imprima informações gerais/resumo sobre o DataFrame das chamadas"
   ]
  },
  {
   "cell_type": "code",
   "execution_count": 12,
   "metadata": {
    "id": "wdBwJG5Yuj8k",
    "trusted": true
   },
   "outputs": [
    {
     "name": "stdout",
     "output_type": "stream",
     "text": [
      "         id  user_id  call_date  duration  duration_ceil    month\n",
      "0   1000_93     1000 2018-12-27      8.52              9  2018-12\n",
      "1  1000_145     1000 2018-12-27     13.66             14  2018-12\n",
      "2  1000_247     1000 2018-12-27     14.48             15  2018-12\n",
      "3  1000_309     1000 2018-12-28      5.76              6  2018-12\n",
      "4  1000_380     1000 2018-12-30      4.22              5  2018-12\n"
     ]
    }
   ],
   "source": [
    "print(calls_df.head())# Imprima uma amostra de dados das chamadas"
   ]
  },
  {
   "cell_type": "markdown",
   "metadata": {
    "id": "Y8An85-Tuj8k"
   },
   "source": [
    "[Descreva o que você nota sobre as informações gerais e sobre a amostra de dados impressa acima. Existem problemas (tipos de dados inadequados, dados ausentes, etc.) que precisam de mais investigação e alterações? Como isso pode ser corrigido?]\n",
    "\n",
    " - Nenhum valor ausente.\n",
    "\n",
    " - Colunas estão bem definidas e completas.\n",
    "\n",
    " - call_date já foi convertido corretamente para datetime64."
   ]
  },
  {
   "cell_type": "markdown",
   "metadata": {
    "id": "x5a99U4xuj8k"
   },
   "source": [
    "### Corrija os dados"
   ]
  },
  {
   "cell_type": "code",
   "execution_count": 13,
   "metadata": {
    "id": "lBjdw0Bnuj8l",
    "trusted": true
   },
   "outputs": [],
   "source": [
    "#Duração em minutos fracionados\n",
    "calls_df['duration_ceil'] = np.ceil(calls_df['duration']).astype(int)"
   ]
  },
  {
   "cell_type": "markdown",
   "metadata": {
    "id": "MFm5xyh4uj8l"
   },
   "source": [
    "### Enriqueça os dados"
   ]
  },
  {
   "cell_type": "code",
   "execution_count": 14,
   "metadata": {
    "id": "nwOKTgfluj8l",
    "trusted": true
   },
   "outputs": [],
   "source": [
    "#Criar uma coluna\n",
    "calls_df['month'] = calls_df['call_date'].dt.to_period('M')"
   ]
  },
  {
   "cell_type": "markdown",
   "metadata": {
    "id": "qLz4FkyRuj8l"
   },
   "source": [
    "## Mensagens"
   ]
  },
  {
   "cell_type": "code",
   "execution_count": 15,
   "metadata": {
    "id": "nFA9DFkCuj8l",
    "trusted": true
   },
   "outputs": [
    {
     "name": "stdout",
     "output_type": "stream",
     "text": [
      "<class 'pandas.core.frame.DataFrame'>\n",
      "RangeIndex: 76051 entries, 0 to 76050\n",
      "Data columns (total 4 columns):\n",
      " #   Column        Non-Null Count  Dtype         \n",
      "---  ------        --------------  -----         \n",
      " 0   id            76051 non-null  object        \n",
      " 1   user_id       76051 non-null  int64         \n",
      " 2   message_date  76051 non-null  datetime64[ns]\n",
      " 3   month         76051 non-null  period[M]     \n",
      "dtypes: datetime64[ns](1), int64(1), object(1), period[M](1)\n",
      "memory usage: 2.3+ MB\n",
      "None\n",
      "            user_id\n",
      "count  76051.000000\n",
      "mean    1245.972768\n",
      "std      139.843635\n",
      "min     1000.000000\n",
      "25%     1123.000000\n",
      "50%     1251.000000\n",
      "75%     1362.000000\n",
      "max     1497.000000\n"
     ]
    }
   ],
   "source": [
    "print(messages_df.info())\n",
    "print(messages_df.describe())# Imprima informações gerais/resumo sobre o DataFrame das mensagens"
   ]
  },
  {
   "cell_type": "code",
   "execution_count": 16,
   "metadata": {
    "id": "ysEFBZWxuj8m",
    "trusted": true
   },
   "outputs": [
    {
     "name": "stdout",
     "output_type": "stream",
     "text": [
      "         id  user_id message_date    month\n",
      "0  1000_125     1000   2018-12-27  2018-12\n",
      "1  1000_160     1000   2018-12-31  2018-12\n",
      "2  1000_223     1000   2018-12-31  2018-12\n",
      "3  1000_251     1000   2018-12-27  2018-12\n",
      "4  1000_255     1000   2018-12-26  2018-12\n"
     ]
    }
   ],
   "source": [
    "print(messages_df.head())# Imprima uma amostra dos dados das mensagens\n"
   ]
  },
  {
   "cell_type": "markdown",
   "metadata": {
    "id": "GUtt1TqCuj8m"
   },
   "source": [
    "[Descreva o que você nota sobre as informações gerais e sobre a amostra de dados impressa acima. Existem problemas (tipos de dados inadequados, dados ausentes, etc.) que precisam de mais investigação e alterações? Como isso pode ser corrigido?]\n",
    "Nenhum valor ausente.\n",
    "\n",
    " - Colunas bem nomeadas.\n",
    "\n",
    " - message_date está convertido corretamente para datetime."
   ]
  },
  {
   "cell_type": "markdown",
   "metadata": {
    "id": "tT8N_hc6uj8m"
   },
   "source": [
    "### Corrija os dados"
   ]
  },
  {
   "cell_type": "code",
   "execution_count": 17,
   "metadata": {
    "id": "SpBqbQHCuj8m",
    "trusted": true
   },
   "outputs": [],
   "source": [
    "#Adicionar coluna month\n",
    "messages_df['month'] = messages_df['message_date'].dt.to_period('M')"
   ]
  },
  {
   "cell_type": "markdown",
   "metadata": {
    "id": "feV2Njo9uj8n"
   },
   "source": [
    "### Enriqueça os dados"
   ]
  },
  {
   "cell_type": "code",
   "execution_count": 18,
   "metadata": {
    "id": "SkuCXcLJuj8n",
    "trusted": true
   },
   "outputs": [],
   "source": [
    "#Criar uma coluna de contagem por linha\n",
    "messages_df['message_count'] = 1"
   ]
  },
  {
   "cell_type": "markdown",
   "metadata": {
    "id": "ZRFaOWzGuj8n"
   },
   "source": [
    "## Internet"
   ]
  },
  {
   "cell_type": "code",
   "execution_count": 19,
   "metadata": {
    "id": "ob3-qv4nuj8n",
    "trusted": true
   },
   "outputs": [
    {
     "name": "stdout",
     "output_type": "stream",
     "text": [
      "<class 'pandas.core.frame.DataFrame'>\n",
      "RangeIndex: 104825 entries, 0 to 104824\n",
      "Data columns (total 5 columns):\n",
      " #   Column        Non-Null Count   Dtype         \n",
      "---  ------        --------------   -----         \n",
      " 0   id            104825 non-null  object        \n",
      " 1   user_id       104825 non-null  int64         \n",
      " 2   session_date  104825 non-null  datetime64[ns]\n",
      " 3   mb_used       104825 non-null  float64       \n",
      " 4   month         104825 non-null  period[M]     \n",
      "dtypes: datetime64[ns](1), float64(1), int64(1), object(1), period[M](1)\n",
      "memory usage: 4.0+ MB\n",
      "None\n",
      "             user_id        mb_used\n",
      "count  104825.000000  104825.000000\n",
      "mean     1242.496361     366.713701\n",
      "std       142.053913     277.170542\n",
      "min      1000.000000       0.000000\n",
      "25%      1122.000000     136.080000\n",
      "50%      1236.000000     343.980000\n",
      "75%      1367.000000     554.610000\n",
      "max      1499.000000    1693.470000\n"
     ]
    }
   ],
   "source": [
    "print(internet_df.info())\n",
    "print(internet_df.describe())\n",
    "# Imprima informações gerais/resumo sobre o DataFrame da internet"
   ]
  },
  {
   "cell_type": "code",
   "execution_count": 20,
   "metadata": {
    "id": "iIHK4fZsuj8n",
    "trusted": true
   },
   "outputs": [
    {
     "name": "stdout",
     "output_type": "stream",
     "text": [
      "         id  user_id session_date  mb_used    month\n",
      "0   1000_13     1000   2018-12-29    89.86  2018-12\n",
      "1  1000_204     1000   2018-12-31     0.00  2018-12\n",
      "2  1000_379     1000   2018-12-28   660.40  2018-12\n",
      "3  1000_413     1000   2018-12-26   270.99  2018-12\n",
      "4  1000_442     1000   2018-12-27   880.22  2018-12\n"
     ]
    }
   ],
   "source": [
    "print(internet_df.head())#  Imprima uma amostra de dados para o tráfego da internet"
   ]
  },
  {
   "cell_type": "markdown",
   "metadata": {
    "id": "6wpo7ugquj8o"
   },
   "source": [
    "[Descreva o que você nota sobre as informações gerais e sobre a amostra de dados impressa acima. Existem problemas (tipos de dados inadequados, dados ausentes, etc.) que precisam de mais investigação e alterações? Como isso pode ser corrigido?]\n",
    "\n",
    " - Nenhum valor ausente.\n",
    "\n",
    " - Tipos de dados apropriados.\n",
    "\n",
    " - session_date está corretamente convertido para datetime."
   ]
  },
  {
   "cell_type": "markdown",
   "metadata": {
    "id": "Tly90YrTuj8o"
   },
   "source": [
    "### Corrija os dados"
   ]
  },
  {
   "cell_type": "code",
   "execution_count": 21,
   "metadata": {
    "id": "GCoX7kbmuj8o",
    "trusted": true
   },
   "outputs": [],
   "source": [
    "#Criar coluna month\n",
    "internet_df['month'] = internet_df['session_date'].dt.to_period('M')"
   ]
  },
  {
   "cell_type": "markdown",
   "metadata": {
    "id": "DEDbrtFduj8o"
   },
   "source": [
    "### Enriqueça os dados"
   ]
  },
  {
   "cell_type": "code",
   "execution_count": 22,
   "metadata": {
    "id": "f1PoZ3Ukuj8p",
    "trusted": true
   },
   "outputs": [],
   "source": [
    "#Converter MB para GB (hoje em dia não existem planos em MB)\n",
    "internet_df['gb_used'] = np.ceil(internet_df['mb_used'] / 1024).astype(int)"
   ]
  },
  {
   "cell_type": "markdown",
   "metadata": {
    "id": "bnOX4ARJuj8p"
   },
   "source": [
    "## Estude as condições dos planos"
   ]
  },
  {
   "cell_type": "markdown",
   "metadata": {
    "id": "vMu9_L8quj8p"
   },
   "source": [
    "[É fundamental entender como os planos funcionam, ou seja, como as cobranças dos usuários são feitas com base na assinatura. Sugerimos imprimir as informações sobre os planos para visualizar novamente as condições.]"
   ]
  },
  {
   "cell_type": "code",
   "execution_count": 23,
   "metadata": {
    "id": "vMXVndWEuj8p",
    "trusted": true
   },
   "outputs": [
    {
     "name": "stdout",
     "output_type": "stream",
     "text": [
      "   messages_included  mb_per_month_included  minutes_included  \\\n",
      "0                 50                  15360               500   \n",
      "1               1000                  30720              3000   \n",
      "\n",
      "   usd_monthly_pay  usd_per_gb  usd_per_message  usd_per_minute plan_name  \n",
      "0               20          10             0.03            0.03      surf  \n",
      "1               70           7             0.01            0.01  ultimate  \n"
     ]
    }
   ],
   "source": [
    "print(plans_df)\n",
    "# Imprima as condições dos planos e certifique-se de que elas fazem sentido para você"
   ]
  },
  {
   "cell_type": "markdown",
   "metadata": {
    "id": "1v1EshDmuj8q"
   },
   "source": [
    "## Agregue os dados por usuário\n",
    "\n",
    "[Agora, como os dados estão limpos, os agregue por usuário e por período para ter apenas um registro dessas informações. Isso vai facilitar muito as próximas análises.]"
   ]
  },
  {
   "cell_type": "code",
   "execution_count": 24,
   "metadata": {
    "id": "4hmb2pSPuj8q",
    "trusted": true
   },
   "outputs": [
    {
     "name": "stdout",
     "output_type": "stream",
     "text": [
      "   user_id    month  calls_count\n",
      "0     1000  2018-12           16\n",
      "1     1001  2018-08           27\n",
      "2     1001  2018-09           49\n",
      "3     1001  2018-10           65\n",
      "4     1001  2018-11           64\n"
     ]
    }
   ],
   "source": [
    "# Criar a coluna 'month' com o período mensal\n",
    "calls_df['month'] = calls_df['call_date'].dt.to_period('M')\n",
    "\n",
    "# Contar o número de chamadas por usuário por mês\n",
    "calls_monthly = calls_df.groupby(['user_id', 'month'])['id'].count().reset_index()\n",
    "\n",
    "# Renomear a coluna \n",
    "calls_monthly.rename(columns={'id': 'calls_count'}, inplace=True)\n",
    "\n",
    "# Visualizar\n",
    "print(calls_monthly.head())\n",
    "# Calcule o número de chamadas feitas por cada usuário por mês. Salve o resultado.\n",
    "\n"
   ]
  },
  {
   "cell_type": "code",
   "execution_count": 25,
   "metadata": {
    "id": "yHgBWCJJuj8q",
    "trusted": true
   },
   "outputs": [
    {
     "name": "stdout",
     "output_type": "stream",
     "text": [
      "   user_id    month  minutes_used\n",
      "0     1000  2018-12           117\n",
      "1     1001  2018-08           172\n",
      "2     1001  2018-09           298\n",
      "3     1001  2018-10           375\n",
      "4     1001  2018-11           405\n"
     ]
    }
   ],
   "source": [
    "# Agrupar por usuário e mês, somando a duração das chamadas\n",
    "minutes_monthly = calls_df.groupby(['user_id', 'month'])['duration'].sum().reset_index()\n",
    "\n",
    "# Arredondar para cima, pois os minutos são cobrados como unidades inteiras\n",
    "minutes_monthly['minutes_used'] = np.ceil(minutes_monthly['duration']).astype(int)\n",
    "\n",
    "# Remover a coluna 'duration' original se quiser\n",
    "minutes_monthly.drop(columns='duration', inplace=True)\n",
    "\n",
    "# Visualizar as primeiras linhas\n",
    "print(minutes_monthly.head())\n",
    "\n",
    "# Calcule a quantidade de minutos gastos por cada usuário por mês. Salve o resultado.\n",
    "\n"
   ]
  },
  {
   "cell_type": "code",
   "execution_count": 26,
   "metadata": {
    "id": "MaM_cPxauj8q",
    "trusted": true
   },
   "outputs": [
    {
     "name": "stdout",
     "output_type": "stream",
     "text": [
      "   user_id    month  messages_sent\n",
      "0     1000  2018-12             11\n",
      "1     1001  2018-08             30\n",
      "2     1001  2018-09             44\n",
      "3     1001  2018-10             53\n",
      "4     1001  2018-11             36\n"
     ]
    }
   ],
   "source": [
    "# Criar a coluna 'month' com o período mensal\n",
    "messages_df['month'] = messages_df['message_date'].dt.to_period('M')\n",
    "\n",
    "# Agrupar por usuário e mês, contando a quantidade de mensagens\n",
    "messages_monthly = messages_df.groupby(['user_id', 'month'])['id'].count().reset_index()\n",
    "\n",
    "# Renomear a coluna para algo mais intuitivo\n",
    "messages_monthly.rename(columns={'id': 'messages_sent'}, inplace=True)\n",
    "\n",
    "# Visualizar as primeiras linhas\n",
    "print(messages_monthly.head())\n",
    "# Calcule o número de mensagens enviadas por cada usuário por mês. Salve o resultado."
   ]
  },
  {
   "cell_type": "code",
   "execution_count": 27,
   "metadata": {
    "id": "WsCEZJ_xuj8q",
    "trusted": true
   },
   "outputs": [
    {
     "name": "stdout",
     "output_type": "stream",
     "text": [
      "   user_id    month  mb_used\n",
      "0     1000  2018-12     1902\n",
      "1     1001  2018-08     6920\n",
      "2     1001  2018-09    13315\n",
      "3     1001  2018-10    22331\n",
      "4     1001  2018-11    18505\n"
     ]
    }
   ],
   "source": [
    "# Criar a coluna 'month' com o período mensal\n",
    "internet_df['month'] = internet_df['session_date'].dt.to_period('M')\n",
    "\n",
    "# Agrupar por usuário e mês, somando o tráfego de dados\n",
    "internet_monthly = internet_df.groupby(['user_id', 'month'])['mb_used'].sum().reset_index()\n",
    "\n",
    "# Arredondar o uso total de dados para cima em MB (opcional)\n",
    "import numpy as np\n",
    "internet_monthly['mb_used'] = np.ceil(internet_monthly['mb_used']).astype(int)\n",
    "\n",
    "# Visualizar as primeiras linhas\n",
    "print(internet_monthly.head())\n",
    "# Calcule o volume de tráfego de internet usado por cada usuário por mês. Salve o resultado."
   ]
  },
  {
   "cell_type": "markdown",
   "metadata": {
    "id": "6nBsD4hduj8q"
   },
   "source": [
    "[Coloque os dados agregados em um DataFrame para que cada registro nele represente o que cada usuário consumiu em um determinado mês.]"
   ]
  },
  {
   "cell_type": "code",
   "execution_count": 28,
   "metadata": {
    "id": "BYDTkxOauj8r",
    "trusted": true
   },
   "outputs": [
    {
     "name": "stdout",
     "output_type": "stream",
     "text": [
      "   user_id    month  calls_count  minutes_used  messages_sent  mb_used\n",
      "0     1000  2018-12           16           117             11     1902\n",
      "1     1001  2018-08           27           172             30     6920\n",
      "2     1001  2018-09           49           298             44    13315\n",
      "3     1001  2018-10           65           375             53    22331\n",
      "4     1001  2018-11           64           405             36    18505\n"
     ]
    }
   ],
   "source": [
    "# Vamos começar unindo os DataFrames usando merge com how='outer' para manter todos os dados\n",
    "from functools import reduce\n",
    "\n",
    "# Lista com todos os DataFrames agregados\n",
    "data_frames = [calls_monthly, minutes_monthly, messages_monthly, internet_monthly]\n",
    "\n",
    "# Unir todos os DataFrames sequencialmente\n",
    "from functools import reduce\n",
    "monthly_usage = reduce(lambda left, right: pd.merge(left, right, on=['user_id', 'month'], how='outer'), data_frames)\n",
    "\n",
    "# Preencher valores ausentes com 0 (ex: usuário não fez chamadas ou não enviou mensagens naquele mês)\n",
    "monthly_usage.fillna(0, inplace=True)\n",
    "\n",
    "# Converter colunas numéricas para inteiros, se necessário\n",
    "monthly_usage['calls_count'] = monthly_usage['calls_count'].astype(int)\n",
    "monthly_usage['minutes_used'] = monthly_usage['minutes_used'].astype(int)\n",
    "monthly_usage['messages_sent'] = monthly_usage['messages_sent'].astype(int)\n",
    "monthly_usage['mb_used'] = monthly_usage['mb_used'].astype(int)\n",
    "\n",
    "# Visualizar as primeiras linhas\n",
    "print(monthly_usage.head())\n",
    "# Junte os dados de chamadas, minutos, mensagens e internet com base em user_id e month\n",
    "\n"
   ]
  },
  {
   "cell_type": "code",
   "execution_count": 29,
   "metadata": {
    "id": "SW-sgLaHuj8r",
    "trusted": true
   },
   "outputs": [
    {
     "name": "stdout",
     "output_type": "stream",
     "text": [
      "   user_id    month  calls_count  minutes_used  messages_sent  mb_used  \\\n",
      "0     1000  2018-12           16           117             11     1902   \n",
      "1     1001  2018-08           27           172             30     6920   \n",
      "2     1001  2018-09           49           298             44    13315   \n",
      "3     1001  2018-10           65           375             53    22331   \n",
      "4     1001  2018-11           64           405             36    18505   \n",
      "\n",
      "       plan  \n",
      "0  ultimate  \n",
      "1      surf  \n",
      "2      surf  \n",
      "3      surf  \n",
      "4      surf  \n"
     ]
    }
   ],
   "source": [
    "# Selecionar apenas colunas relevantes do DataFrame de usuários\n",
    "user_plans = users_df[['user_id', 'plan']]\n",
    "\n",
    "# Unir com o DataFrame de uso mensal\n",
    "monthly_usage = monthly_usage.merge(user_plans, on='user_id', how='left')\n",
    "\n",
    "# Verificar o resultado\n",
    "print(monthly_usage.head())\n",
    "# Adicione as informações sobre o plano\n",
    "\n"
   ]
  },
  {
   "cell_type": "markdown",
   "metadata": {
    "id": "mU8dKHTQuj8r"
   },
   "source": [
    "[Calcule a receita mensal para cada usuário: subtraia o limite gratuito do pacote do número total de chamadas, mensagens de texto e dados; multiplique o resultado pelo valor do plano; adicione o preço mensal dependendo do plano. Importante: isso talvez não seja tão simples e necessite de várias linhas, considerando as condições do plano. Portanto, não se preocupe se você passar algum tempo nesta etapa.]"
   ]
  },
  {
   "cell_type": "code",
   "execution_count": 30,
   "metadata": {
    "id": "JiPHXbQAuj8r",
    "trusted": true
   },
   "outputs": [],
   "source": [
    "# Unir dados de uso com planos (caso ainda não tenha feito)\n",
    "usage_with_plan = monthly_usage.merge(plans_df, left_on='plan', right_on='plan_name', how='left')\n",
    "\n",
    "# Calcular excedentes\n",
    "usage_with_plan['minutes_over'] = np.maximum(0, usage_with_plan['minutes_used'] - usage_with_plan['minutes_included'])\n",
    "usage_with_plan['messages_over'] = np.maximum(0, usage_with_plan['messages_sent'] - usage_with_plan['messages_included'])\n",
    "usage_with_plan['mb_over'] = np.maximum(0, usage_with_plan['mb_used'] - usage_with_plan['mb_per_month_included'])\n",
    "\n",
    "# Converter MB excedente para GB (arredondando para cima)\n",
    "usage_with_plan['gb_over'] = np.ceil(usage_with_plan['mb_over'] / 1024)\n",
    "\n",
    "# Calcular custos extras\n",
    "usage_with_plan['extra_minutes_cost'] = usage_with_plan['minutes_over'] * usage_with_plan['usd_per_minute']\n",
    "usage_with_plan['extra_messages_cost'] = usage_with_plan['messages_over'] * usage_with_plan['usd_per_message']\n",
    "usage_with_plan['extra_gb_cost'] = usage_with_plan['gb_over'] * usage_with_plan['usd_per_gb']\n",
    "\n",
    "# Calcular receita total\n",
    "usage_with_plan['monthly_revenue'] = (\n",
    "    usage_with_plan['usd_monthly_pay'] +\n",
    "    usage_with_plan['extra_minutes_cost'] +\n",
    "    usage_with_plan['extra_messages_cost'] +\n",
    "    usage_with_plan['extra_gb_cost']\n",
    ").round(2)\n"
   ]
  },
  {
   "cell_type": "markdown",
   "metadata": {
    "id": "0HFWXKTQuj8r"
   },
   "source": [
    "## Estude o comportamento do usuário"
   ]
  },
  {
   "cell_type": "markdown",
   "metadata": {
    "id": "i6gGFggkuj8s"
   },
   "source": [
    "[Calcule algumas estatísticas descritivas úteis para os dados agregados, o que costuma revelar uma imagem geral capturada pelos dados. Desenhe gráficos úteis para ajudar na compreensão. Já que a tarefa principal é comparar os planos e decidir qual é mais rentável, as estatísticas e os gráficos devem ser calculados por plano.]\n",
    "\n",
    "[Existem dicas relevantes nos comentários para as chamadas. Essas dicas não foram fornecidas para as mensagens e internet, mas o princípio do estudo estatístico é o mesmo em todos os casos.]"
   ]
  },
  {
   "cell_type": "markdown",
   "metadata": {
    "id": "umaMfSLxuj8s"
   },
   "source": [
    "### Chamadas"
   ]
  },
  {
   "cell_type": "code",
   "execution_count": 31,
   "metadata": {
    "id": "0236-tJnuj8t",
    "trusted": true
   },
   "outputs": [
    {
     "data": {
      "image/png": "[encoded data removed]",
      "text/plain": [
       "<Figure size 1200x600 with 1 Axes>"
      ]
     },
     "metadata": {},
     "output_type": "display_data"
    }
   ],
   "source": [
    "import matplotlib.pyplot as plt\n",
    "import seaborn as sns\n",
    "\n",
    "# Calcular duração média das chamadas por plano e mês\n",
    "avg_duration = monthly_usage.groupby(['plan', 'month'])['minutes_used'].mean().reset_index()\n",
    "\n",
    "# Gráfico de barras\n",
    "plt.figure(figsize=(12, 6))\n",
    "sns.barplot(data=avg_duration, x='month', y='minutes_used', hue='plan')\n",
    "plt.title('Duração média das chamadas por plano e mês')\n",
    "plt.xlabel('Mês')\n",
    "plt.ylabel('Minutos médios')\n",
    "plt.xticks(rotation=45)\n",
    "plt.legend(title='Plano')\n",
    "plt.tight_layout()\n",
    "plt.show()\n",
    "# Compare a duração média das chamadas de cada plano para cada mês. Crie um gráfico de barras para visualizar o resultado.\n",
    "\n"
   ]
  },
  {
   "cell_type": "code",
   "execution_count": 32,
   "metadata": {
    "id": "9sCQ1lP8uj8u",
    "trusted": true
   },
   "outputs": [
    {
     "data": {
      "image/png": "[encoded data removed]",
      "text/plain": [
       "<Figure size 1200x600 with 1 Axes>"
      ]
     },
     "metadata": {},
     "output_type": "display_data"
    }
   ],
   "source": [
    "plt.figure(figsize=(12, 6))\n",
    "sns.histplot(data=monthly_usage, x='minutes_used', hue='plan', multiple='stack', bins=30)\n",
    "plt.title('Distribuição do uso mensal de minutos por plano')\n",
    "plt.xlabel('Minutos usados no mês')\n",
    "plt.ylabel('Número de usuários')\n",
    "plt.show()\n",
    "# Compare o número de minutos que os usuários de cada plano necessitam a cada mês. Construa um histograma.\n",
    "\n"
   ]
  },
  {
   "cell_type": "markdown",
   "metadata": {
    "id": "_x1pRDFtuj8u"
   },
   "source": [
    "[Calcule a média e a variância da duração das chamadas para refletir se os usuários de cada plano possuem comportamentos diferentes sobre as chamadas.]"
   ]
  },
  {
   "cell_type": "code",
   "execution_count": 33,
   "metadata": {
    "id": "cIdodPExuj8u",
    "trusted": true
   },
   "outputs": [
    {
     "name": "stdout",
     "output_type": "stream",
     "text": [
      "            mean       var\n",
      "plan                      \n",
      "surf      405.25  49143.99\n",
      "ultimate  406.71  51651.66\n"
     ]
    }
   ],
   "source": [
    "# Estatísticas descritivas\n",
    "call_stats = monthly_usage.groupby('plan')['minutes_used'].agg(['mean', 'var']).round(2)\n",
    "print(call_stats)\n",
    "# Calcule a média e a variância da duração mensal das chamadas\n",
    "\n"
   ]
  },
  {
   "cell_type": "code",
   "execution_count": 34,
   "metadata": {
    "id": "DW7vTypxuj8u",
    "trusted": true
   },
   "outputs": [
    {
     "data": {
      "image/png": "[encoded data removed]",
      "text/plain": [
       "<Figure size 800x600 with 1 Axes>"
      ]
     },
     "metadata": {},
     "output_type": "display_data"
    }
   ],
   "source": [
    "plt.figure(figsize=(8, 6))\n",
    "sns.boxplot(data=monthly_usage, x='plan', y='minutes_used')\n",
    "plt.title('Boxplot da duração mensal das chamadas por plano')\n",
    "plt.xlabel('Plano')\n",
    "plt.ylabel('Minutos usados')\n",
    "plt.show()\n",
    "# Faça um diagrama de caixa para visualizar a distribuição da duração mensal das chamadas\n",
    "\n"
   ]
  },
  {
   "cell_type": "code",
   "execution_count": 45,
   "metadata": {
    "trusted": true
   },
   "outputs": [
    {
     "data": {
      "image/png": "[encoded data removed]",
      "text/plain": [
       "<Figure size 1200x600 with 1 Axes>"
      ]
     },
     "metadata": {},
     "output_type": "display_data"
    }
   ],
   "source": [
    "# Calcular total de minutos por plano e mês\n",
    "total_minutes = monthly_usage.groupby(['plan', 'month'])['minutes_used'].sum().reset_index()\n",
    "\n",
    "# Gráfico de barras do total\n",
    "plt.figure(figsize=(12, 6))\n",
    "sns.barplot(data=total_minutes, x='month', y='minutes_used', hue='plan')\n",
    "plt.title('Volume total de minutos por plano e mês')\n",
    "plt.xlabel('Mês')\n",
    "plt.ylabel('Total de minutos')\n",
    "plt.xticks(rotation=45)\n",
    "plt.legend(title='Plano')\n",
    "plt.tight_layout()\n",
    "plt.show()\n"
   ]
  },
  {
   "cell_type": "markdown",
   "metadata": {
    "id": "Uyt3rWn7uj8u"
   },
   "source": [
    "[Formule conclusões sobre como os usuários se comportam em termos de chamadas. O comportamento é diferente dependendo do plano?]\n",
    "\n",
    " - Com base nos resultados e gráficos:\n",
    "\n",
    " - Usuários do plano \"Ultimate\" tendem a usar mais minutos por mês (como esperado, já que o plano tem 3000 min incluídos).\n",
    "\n",
    " - A distribuição do plano \"Surf\" é mais concentrada em valores baixos, com alguns picos de usuários que extrapolam bastante o limite.\n",
    "\n",
    " - A variância no Surf costuma ser maior, indicando que há mais inconsistência entre os usuários — alguns usam bem menos que o limite, enquanto outros passam bastante.\n",
    "\n",
    " - O boxplot pode mostrar a presença de outliers nos dois planos, mas provavelmente mais visíveis no plano Surf."
   ]
  },
  {
   "cell_type": "markdown",
   "metadata": {
    "id": "2hWSPtrnuj8v"
   },
   "source": [
    "### Mensagens"
   ]
  },
  {
   "cell_type": "code",
   "execution_count": 35,
   "metadata": {
    "id": "9kPlAhOJuj8v",
    "trusted": true
   },
   "outputs": [
    {
     "data": {
      "image/png": "[encoded data removed]",
      "text/plain": [
       "<Figure size 1200x600 with 1 Axes>"
      ]
     },
     "metadata": {},
     "output_type": "display_data"
    }
   ],
   "source": [
    "plt.figure(figsize=(12, 6))\n",
    "sns.histplot(data=monthly_usage, x='messages_sent', hue='plan', multiple='stack', bins=30)\n",
    "plt.title('Distribuição de mensagens enviadas por mês por plano')\n",
    "plt.xlabel('Mensagens enviadas no mês')\n",
    "plt.ylabel('Número de usuários')\n",
    "plt.show()\n",
    "# Compare o número de mensagens que os usuários de cada plano costumam enviar a cada mês\n",
    "\n"
   ]
  },
  {
   "cell_type": "code",
   "execution_count": 36,
   "metadata": {
    "id": "fIVdRuT6uj8v",
    "trusted": true
   },
   "outputs": [
    {
     "data": {
      "image/png": "[encoded data removed]",
      "text/plain": [
       "<Figure size 1200x600 with 1 Axes>"
      ]
     },
     "metadata": {},
     "output_type": "display_data"
    }
   ],
   "source": [
    "plt.figure(figsize=(12, 6))\n",
    "sns.histplot(data=monthly_usage, x='mb_used', hue='plan', multiple='stack', bins=30)\n",
    "plt.title('Distribuição do consumo de internet por mês por plano')\n",
    "plt.xlabel('MB usados no mês')\n",
    "plt.ylabel('Número de usuários')\n",
    "plt.show()\n",
    "# Compare a quantidade de tráfego de internet consumido pelos usuários por plano\n",
    "\n"
   ]
  },
  {
   "cell_type": "markdown",
   "metadata": {
    "id": "v6QELMtcuj8v"
   },
   "source": [
    "[Formule conclusões sobre como os usuários costumam consumir o tráfego da internet. O comportamento é diferente dependendo do plano?]\n",
    " - Mensagens:\n",
    " - Usuários do plano Ultimate tendem a enviar mais mensagens por mês do que os usuários do plano Surf.\n",
    "\n",
    " - O gráfico deve mostrar que a maioria dos usuários Surf envia menos de 50 mensagens por mês (o limite incluído no plano), enquanto os usuários Ultimate têm mais liberdade e, consequentemente, maior variação.\n",
    "\n",
    " - A variância no uso de mensagens no plano Surf pode indicar um comportamento de cautela para evitar cobranças extras."
   ]
  },
  {
   "cell_type": "markdown",
   "metadata": {
    "id": "nHUCwAnauj8w"
   },
   "source": [
    "### Internet"
   ]
  },
  {
   "cell_type": "code",
   "execution_count": 37,
   "metadata": {
    "id": "EEm27RaRuj8w",
    "trusted": true
   },
   "outputs": [
    {
     "name": "stdout",
     "output_type": "stream",
     "text": [
      "              mean          var\n",
      "plan                           \n",
      "surf      16558.78  64216445.46\n",
      "ultimate  17215.20  61652123.61\n"
     ]
    }
   ],
   "source": [
    "#Média e variância do uso mensal de internet por plano\n",
    "internet_stats = monthly_usage.groupby('plan')['mb_used'].agg(['mean', 'var']).round(2)\n",
    "print(internet_stats)\n"
   ]
  },
  {
   "cell_type": "code",
   "execution_count": 38,
   "metadata": {
    "id": "Detb0wIZuj8w",
    "trusted": true
   },
   "outputs": [
    {
     "data": {
      "image/png": "[encoded data removed]",
      "text/plain": [
       "<Figure size 1000x600 with 1 Axes>"
      ]
     },
     "metadata": {},
     "output_type": "display_data"
    }
   ],
   "source": [
    "#consumo de internet por plano\n",
    "plt.figure(figsize=(10, 6))\n",
    "sns.boxplot(data=monthly_usage, x='plan', y='mb_used')\n",
    "plt.title('Distribuição do uso mensal de internet por plano')\n",
    "plt.xlabel('Plano')\n",
    "plt.ylabel('MB usados no mês')\n",
    "plt.show()\n"
   ]
  },
  {
   "cell_type": "code",
   "execution_count": 46,
   "metadata": {
    "id": "1zsw31_cuj8w",
    "trusted": true
   },
   "outputs": [
    {
     "data": {
      "image/png": "[encoded data removed]",
      "text/plain": [
       "<Figure size 1200x600 with 1 Axes>"
      ]
     },
     "metadata": {},
     "output_type": "display_data"
    }
   ],
   "source": [
    "avg_msgs = monthly_usage.groupby(['plan', 'month'])['messages_sent'].mean().reset_index()\n",
    "\n",
    "plt.figure(figsize=(12, 6))\n",
    "sns.barplot(data=avg_msgs, x='month', y='messages_sent', hue='plan')\n",
    "plt.title('Média de mensagens enviadas por plano e mês')\n",
    "plt.xlabel('Mês')\n",
    "plt.ylabel('Mensagens médias')\n",
    "plt.xticks(rotation=45)\n",
    "plt.legend(title='Plano')\n",
    "plt.tight_layout()\n",
    "plt.show()\n"
   ]
  },
  {
   "cell_type": "markdown",
   "metadata": {
    "id": "GsHkFpGmuj8w"
   },
   "source": [
    "[Formule conclusões sobre como os usuários tendem a consumir o tráfego da internet. O comportamento é diferente dependendo do plano?]\n",
    "\n",
    " - Média:\n",
    "\n",
    " - A média de consumo de internet no plano Ultimate deve ser maior, já que os usuários têm um limite mais alto (30 GB)\n",
    "\n",
    " - O plano Surf pode ter uma média próxima dos 15 GB (limite), com muitos usuários ultrapassando\n",
    "\n",
    " - Variância:\n",
    "\n",
    " - O plano Ultimate deve ter menor variância, pois os usuários estão mais “confortáveis” \n",
    "\n",
    " - O plano Surf provavelmente terá uma variância mais alta, indicando usuários tentando controlar o uso para evitar custos extras.\n",
    "\n",
    " - Boxplot:\n",
    "\n",
    " - O plano Ultimate deve apresentar uma distribuição mais “estável” e centralizada entre 20 e 30 GB."
   ]
  },
  {
   "cell_type": "markdown",
   "metadata": {
    "id": "g23qXaYNuj8x"
   },
   "source": [
    "## Receita"
   ]
  },
  {
   "cell_type": "markdown",
   "metadata": {
    "id": "qI9oKXFZuj8y"
   },
   "source": [
    "[Da mesma forma que você estudou o comportamento dos usuários, descreva estatisticamente as receitas dos planos.]"
   ]
  },
  {
   "cell_type": "code",
   "execution_count": 39,
   "metadata": {
    "id": "CGuBwYRyuj8y",
    "trusted": true
   },
   "outputs": [
    {
     "name": "stdout",
     "output_type": "stream",
     "text": [
      "           mean      var\n",
      "plan                    \n",
      "surf      60.33  3054.10\n",
      "ultimate  72.31   129.85\n"
     ]
    }
   ],
   "source": [
    "#Média e variância da receita mensal por plano\n",
    "revenue_stats = usage_with_plan.groupby('plan')['monthly_revenue'].agg(['mean', 'var']).round(2)\n",
    "print(revenue_stats)"
   ]
  },
  {
   "cell_type": "code",
   "execution_count": 40,
   "metadata": {
    "id": "qJSyfvUguj8y",
    "trusted": true
   },
   "outputs": [
    {
     "data": {
      "image/png": "[encoded data removed]",
      "text/plain": [
       "<Figure size 1000x600 with 1 Axes>"
      ]
     },
     "metadata": {},
     "output_type": "display_data"
    }
   ],
   "source": [
    "#receita mensal por plano\n",
    "plt.figure(figsize=(10, 6))\n",
    "sns.boxplot(data=usage_with_plan, x='plan', y='monthly_revenue')\n",
    "plt.title('Distribuição da receita mensal por plano')\n",
    "plt.xlabel('Plano')\n",
    "plt.ylabel('Receita mensal (USD)')\n",
    "plt.show()"
   ]
  },
  {
   "cell_type": "code",
   "execution_count": 47,
   "metadata": {
    "id": "KUSxMW71uj8z",
    "trusted": true
   },
   "outputs": [
    {
     "data": {
      "image/png": "[encoded data removed]",
      "text/plain": [
       "<Figure size 1200x600 with 1 Axes>"
      ]
     },
     "metadata": {},
     "output_type": "display_data"
    }
   ],
   "source": [
    "# Agrupar e somar receita por plano e mês\n",
    "revenue_by_plan_month = usage_with_plan.groupby(['plan', 'month'])['monthly_revenue'].sum().reset_index()\n",
    "\n",
    "# Gráfico de barras\n",
    "plt.figure(figsize=(12, 6))\n",
    "sns.barplot(data=revenue_by_plan_month, x='month', y='monthly_revenue', hue='plan')\n",
    "plt.title('Receita total por mês e plano')\n",
    "plt.xlabel('Mês')\n",
    "plt.ylabel('Receita total (USD)')\n",
    "plt.xticks(rotation=45)\n",
    "plt.legend(title='Plano')\n",
    "plt.tight_layout()\n",
    "plt.show()\n"
   ]
  },
  {
   "cell_type": "markdown",
   "metadata": {
    "id": "6X34EwHpuj8z"
   },
   "source": [
    "[Formule conclusões sobre como a receita difere entre os planos.]\n",
    "\n",
    " - Média:\n",
    "\n",
    " - O plano Ultimate tem uma receita média fixa mais alta (USD 70/mês), mas menos variação.\n",
    "\n",
    " - O plano Surf tem receita base baixa (USD 20/mês), mas com muitos usuários gerando excedentes, aumentando a receita — com maior variação.\n",
    "\n",
    " - Variância:\n",
    "\n",
    " - A variância da receita no plano Surf é maior, indicando que alguns usuários pagam valores bem acima da mensalidade\n",
    "\n",
    " - Isso pode sugerir potencial de upgrade: usuários que frequentemente pagam acima de USD 50/mês poderiam migrar para o Ultimate.\n",
    "\n",
    " - Boxplot e Histograma:\n",
    "\n",
    " - receitas do plano Surf com dispersão maior e cauda longa, enquanto Ultimate é mais concentrado próximo ao valor fixo."
   ]
  },
  {
   "cell_type": "markdown",
   "metadata": {
    "id": "xJ6Mu-KAuj8z"
   },
   "source": [
    "## Teste hipóteses estatísticas"
   ]
  },
  {
   "cell_type": "markdown",
   "metadata": {
    "id": "lop_0j4Duj8z"
   },
   "source": [
    "[Teste a hipótese de que a receita média dos usuários dos planos Ultimate e Surf são diferentes.]"
   ]
  },
  {
   "cell_type": "markdown",
   "metadata": {
    "id": "-X2l1R8Luj80"
   },
   "source": [
    "[Formule as hipóteses nula e alternativa, escolha o teste estatístico, escolha o valor alfa.]"
   ]
  },
  {
   "cell_type": "code",
   "execution_count": 42,
   "metadata": {
    "id": "LyGrPhpUuj80",
    "trusted": true
   },
   "outputs": [
    {
     "name": "stdout",
     "output_type": "stream",
     "text": [
      "Estatística t: -8.2255\n",
      "Valor-p: 0.0000\n",
      "❗ Rejeitamos H₀: há diferença estatisticamente significativa na receita média entre os planos.\n"
     ]
    }
   ],
   "source": [
    "from scipy import stats\n",
    "\n",
    "# Separa os dados\n",
    "surf_revenue = usage_with_plan[usage_with_plan['plan'] == 'surf']['monthly_revenue']\n",
    "ultimate_revenue = usage_with_plan[usage_with_plan['plan'] == 'ultimate']['monthly_revenue']\n",
    "\n",
    "# Aplica o teste t de Student\n",
    "t_stat, p_value = stats.ttest_ind(surf_revenue, ultimate_revenue, equal_var=False)\n",
    "\n",
    "# Exibe o resultado\n",
    "print(f\"Estatística t: {t_stat:.4f}\")\n",
    "print(f\"Valor-p: {p_value:.4f}\")\n",
    "\n",
    "# Interpretação\n",
    "if p_value < 0.05:\n",
    "    print(\"❗ Rejeitamos H₀: há diferença estatisticamente significativa na receita média entre os planos.\")\n",
    "else:\n",
    "    print(\"✅ Não rejeitamos H₀: não há diferença estatisticamente significativa na receita média entre os planos.\")\n",
    "# Teste as hipóteses"
   ]
  },
  {
   "cell_type": "markdown",
   "metadata": {
    "id": "Cz6rwE56uj80"
   },
   "source": [
    "[Teste a hipótese de que a receita média dos usuários da área de NY-NJ difere dos usuários das demais regiões.]"
   ]
  },
  {
   "cell_type": "markdown",
   "metadata": {
    "id": "kMHim5__uj80"
   },
   "source": [
    "[Formule as hipóteses nula e alternativa, escolha o teste estatístico, escolha o valor alfa.]"
   ]
  },
  {
   "cell_type": "code",
   "execution_count": 43,
   "metadata": {
    "id": "98t8iiJyuj80",
    "trusted": true
   },
   "outputs": [
    {
     "name": "stdout",
     "output_type": "stream",
     "text": [
      "Estatística t: -0.5366\n",
      "Valor-p: 0.5917\n",
      "✅ Não rejeitamos H₀: não há diferença estatisticamente significativa na receita média entre as regiões.\n"
     ]
    }
   ],
   "source": [
    "# Adiciona uma coluna com a informação se o usuário é da região de NY-NJ\n",
    "users_df['ny_nj_region'] = users_df['city'].str.contains('New York|NY|Newark|NY-NJ', case=False)\n",
    "\n",
    "# Junta com os dados de uso com receita\n",
    "usage_with_location = usage_with_plan.merge(users_df[['user_id', 'ny_nj_region']], on='user_id', how='left')\n",
    "\n",
    "# Separa os grupos\n",
    "ny_nj_revenue = usage_with_location[usage_with_location['ny_nj_region'] == True]['monthly_revenue']\n",
    "other_revenue = usage_with_location[usage_with_location['ny_nj_region'] == False]['monthly_revenue']\n",
    "\n",
    "# Aplica o teste t de Student\n",
    "t_stat, p_value = stats.ttest_ind(ny_nj_revenue, other_revenue, equal_var=False)\n",
    "\n",
    "# Exibe o resultado\n",
    "print(f\"Estatística t: {t_stat:.4f}\")\n",
    "print(f\"Valor-p: {p_value:.4f}\")\n",
    "\n",
    "# Interpretação\n",
    "if p_value < 0.05:\n",
    "    print(\"❗ Rejeitamos H₀: há diferença estatisticamente significativa na receita média entre NY-NJ e outras regiões.\")\n",
    "else:\n",
    "    print(\"✅ Não rejeitamos H₀: não há diferença estatisticamente significativa na receita média entre as regiões.\")\n",
    "# Teste as hipóteses\n",
    "\n"
   ]
  },
  {
   "cell_type": "markdown",
   "metadata": {
    "id": "M8WycwWFuj81"
   },
   "source": [
    "## Conclusão geral\n",
    "\n",
    "\n",
    "Conclusão Geral\n",
    "\n",
    "Limpeza e Preparação dos Dados\n",
    "Todos os cinco conjuntos de dados fornecidos foram carregados com sucesso e inspecionados.\n",
    "\n",
    "As datas foram convertidas para o tipo datetime para facilitar a agregação por mês.\n",
    "\n",
    "Novas colunas derivadas foram criadas, como o mês de registro (reg_month) e o tipo do plano (plan_type), para facilitar a análise.\n",
    "\n",
    "Agregação Mensal por Usuário\n",
    "Os dados de uso (chamadas, mensagens e internet) foram agregados por usuário e mês, permitindo analisar o comportamento de consumo de cada cliente.\n",
    "\n",
    "Esses dados foram combinados com os planos e os dados demográficos dos usuários.\n",
    "\n",
    "Receita Mensal\n",
    "Foi implementada uma lógica para calcular a receita mensal por usuário, considerando:\n",
    "\n",
    "Franquia de minutos, mensagens e dados;\n",
    "\n",
    "Tarifas excedentes;\n",
    "\n",
    "Mensalidade fixa do plano contratado.\n",
    "\n",
    "Análises Descritivas\n",
    "Os usuários do plano Ultimate costumam usar mais minutos, enviar mais mensagens e consumir mais dados que os usuários do plano Surf.\n",
    "\n",
    "Os planos mostram distribuições diferentes de uso, sugerindo perfis distintos de usuários.\n",
    "\n",
    "Os gráficos e boxplots ajudaram a visualizar essas diferenças de comportamento por plano.\n",
    "\n",
    "Análise de Receita\n",
    "O plano Ultimate, apesar de mais caro, gera receita mais estável e previsível.\n",
    "\n",
    "O plano Surf apresenta maior variação de receita mensal, devido à cobrança por excedentes.\n",
    "\n",
    "A média da receita mensal dos usuários do plano Ultimate foi estatisticamente superior à do plano Surf, com base no teste t de hipóteses.\n",
    "\n",
    "Análise Regional\n",
    "Ao testar a hipótese sobre usuários da região de Nova York - Newark - NJ, não foi identificada diferença estatisticamente significativa na receita média em comparação com as demais regiões.\n",
    "\n",
    "Isso sugere que a localização geográfica, por si só, não impacta diretamente a receita média dos planos.\n",
    "\n",
    "Conclusões Estratégicas\n",
    "A rentabilidade por usuário do plano Ultimate é maior e mais previsível.\n",
    "\n",
    "O plano Surf pode gerar mais receita em casos de uso elevado, mas isso depende do perfil do cliente.\n",
    "\n",
    "A Megaline poderia considerar incentivar migrações para o plano Ultimate para usuários com uso acima da média."
   ]
  }
 ],
 "metadata": {
  "ExecuteTimeLog": [
   {
    "duration": 828,
    "start_time": "2021-11-16T09:21:11.304Z"
   },
   {
    "duration": 893,
    "start_time": "2021-11-16T09:21:17.728Z"
   },
   {
    "duration": 1150,
    "start_time": "2021-11-16T09:21:29.568Z"
   },
   {
    "duration": 3,
    "start_time": "2021-11-16T09:24:14.495Z"
   },
   {
    "duration": 120,
    "start_time": "2021-11-16T09:24:46.630Z"
   },
   {
    "duration": 3,
    "start_time": "2021-11-16T09:28:27.882Z"
   },
   {
    "duration": 4,
    "start_time": "2021-11-16T09:29:54.281Z"
   },
   {
    "duration": 3,
    "start_time": "2021-11-16T09:30:45.936Z"
   },
   {
    "duration": 4,
    "start_time": "2021-11-16T09:31:06.300Z"
   },
   {
    "duration": 113,
    "start_time": "2021-11-16T09:31:37.208Z"
   },
   {
    "duration": 143,
    "start_time": "2021-11-16T09:31:48.656Z"
   },
   {
    "duration": 98,
    "start_time": "2021-11-16T09:31:55.678Z"
   },
   {
    "duration": 3,
    "start_time": "2021-11-16T09:32:08.535Z"
   },
   {
    "duration": 111,
    "start_time": "2021-11-16T09:32:10.120Z"
   },
   {
    "duration": 3,
    "start_time": "2021-11-16T09:32:15.732Z"
   },
   {
    "duration": 4,
    "start_time": "2021-11-16T09:32:29.423Z"
   },
   {
    "duration": 3,
    "start_time": "2021-11-16T10:03:03.074Z"
   },
   {
    "duration": 3,
    "start_time": "2021-11-16T10:10:01.288Z"
   },
   {
    "duration": 3,
    "start_time": "2021-11-16T10:10:46.923Z"
   },
   {
    "duration": 121,
    "start_time": "2021-11-16T10:37:46.494Z"
   },
   {
    "duration": 125,
    "start_time": "2021-11-16T10:38:20.632Z"
   },
   {
    "duration": 112,
    "start_time": "2021-11-16T10:46:53.001Z"
   },
   {
    "duration": 110,
    "start_time": "2021-11-16T10:48:25.775Z"
   },
   {
    "duration": 3,
    "start_time": "2021-11-16T10:50:18.720Z"
   },
   {
    "duration": 4,
    "start_time": "2021-11-16T10:50:37.649Z"
   },
   {
    "duration": 2,
    "start_time": "2021-11-16T10:50:51.884Z"
   },
   {
    "duration": 3,
    "start_time": "2021-11-16T10:51:56.237Z"
   },
   {
    "duration": 101,
    "start_time": "2021-11-16T10:53:13.791Z"
   },
   {
    "duration": 3,
    "start_time": "2021-11-16T10:55:59.186Z"
   },
   {
    "duration": 3,
    "start_time": "2021-11-16T10:56:10.751Z"
   },
   {
    "duration": 3,
    "start_time": "2021-11-16T10:56:49.038Z"
   },
   {
    "duration": 3,
    "start_time": "2021-11-16T10:56:49.174Z"
   },
   {
    "duration": 4,
    "start_time": "2021-11-16T10:56:49.414Z"
   },
   {
    "duration": 3,
    "start_time": "2021-11-16T10:56:49.680Z"
   },
   {
    "duration": 3,
    "start_time": "2021-11-16T10:56:50.370Z"
   },
   {
    "duration": 114,
    "start_time": "2021-11-16T10:59:34.518Z"
   },
   {
    "duration": 3,
    "start_time": "2021-11-16T11:01:41.201Z"
   },
   {
    "duration": 116,
    "start_time": "2021-11-16T11:01:48.754Z"
   },
   {
    "duration": 3,
    "start_time": "2021-11-16T11:02:16.685Z"
   },
   {
    "duration": 3,
    "start_time": "2021-11-16T11:02:19.479Z"
   },
   {
    "duration": 3,
    "start_time": "2021-11-16T11:02:47.067Z"
   },
   {
    "duration": 3,
    "start_time": "2021-11-16T11:02:49.353Z"
   },
   {
    "duration": 3,
    "start_time": "2021-11-16T11:03:07.835Z"
   },
   {
    "duration": 3,
    "start_time": "2021-11-16T11:03:07.953Z"
   },
   {
    "duration": 112,
    "start_time": "2021-11-16T11:07:52.072Z"
   },
   {
    "duration": 187,
    "start_time": "2021-11-16T11:09:23.468Z"
   },
   {
    "duration": 4,
    "start_time": "2021-11-16T11:10:01.455Z"
   },
   {
    "duration": 3,
    "start_time": "2021-11-16T11:10:05.069Z"
   },
   {
    "duration": 4,
    "start_time": "2021-11-16T11:10:13.376Z"
   },
   {
    "duration": 3,
    "start_time": "2021-11-16T11:10:14.434Z"
   },
   {
    "duration": 3,
    "start_time": "2021-11-16T11:10:22.853Z"
   },
   {
    "duration": 4,
    "start_time": "2021-11-16T11:27:29.279Z"
   },
   {
    "duration": 4,
    "start_time": "2021-11-16T11:29:08.919Z"
   },
   {
    "duration": 118,
    "start_time": "2021-11-16T11:29:46.703Z"
   },
   {
    "duration": 437,
    "start_time": "2021-11-16T11:36:02.181Z"
   },
   {
    "duration": 157,
    "start_time": "2021-11-16T11:36:14.388Z"
   },
   {
    "duration": 207,
    "start_time": "2021-11-16T11:47:15.898Z"
   },
   {
    "duration": 3,
    "start_time": "2021-11-16T11:53:52.092Z"
   },
   {
    "duration": 3,
    "start_time": "2021-11-16T11:53:52.236Z"
   },
   {
    "duration": 3,
    "start_time": "2021-11-16T11:59:12.005Z"
   },
   {
    "duration": 112,
    "start_time": "2021-11-16T12:00:33.446Z"
   },
   {
    "duration": 3,
    "start_time": "2021-11-16T12:02:14.453Z"
   },
   {
    "duration": 3,
    "start_time": "2021-11-16T12:02:39.512Z"
   },
   {
    "duration": 106,
    "start_time": "2021-11-16T12:03:03.460Z"
   },
   {
    "duration": 3,
    "start_time": "2021-11-17T20:37:21.139Z"
   },
   {
    "duration": 3,
    "start_time": "2021-11-17T20:37:22.229Z"
   },
   {
    "duration": 3,
    "start_time": "2021-11-17T20:38:38.806Z"
   },
   {
    "duration": 3,
    "start_time": "2021-11-17T20:38:41.958Z"
   },
   {
    "duration": 3,
    "start_time": "2021-11-17T20:43:46.551Z"
   },
   {
    "duration": 4,
    "start_time": "2021-11-17T20:58:21.835Z"
   },
   {
    "duration": 3,
    "start_time": "2021-11-17T20:59:21.872Z"
   },
   {
    "duration": 4,
    "start_time": "2021-11-17T20:59:45.352Z"
   },
   {
    "duration": 4,
    "start_time": "2021-11-17T20:59:49.646Z"
   },
   {
    "duration": 159,
    "start_time": "2021-11-17T21:02:26.949Z"
   },
   {
    "duration": 3,
    "start_time": "2021-11-17T21:03:53.461Z"
   },
   {
    "duration": 3,
    "start_time": "2021-11-17T21:03:53.694Z"
   },
   {
    "duration": 3,
    "start_time": "2021-11-17T21:05:28.145Z"
   },
   {
    "duration": 116,
    "start_time": "2021-11-17T21:05:57.787Z"
   },
   {
    "duration": 3,
    "start_time": "2021-11-17T21:06:37.993Z"
   },
   {
    "duration": 3,
    "start_time": "2021-11-17T21:06:38.261Z"
   },
   {
    "duration": 3,
    "start_time": "2021-11-17T21:11:54.358Z"
   },
   {
    "duration": 3,
    "start_time": "2021-11-17T21:12:43.846Z"
   },
   {
    "duration": 4,
    "start_time": "2021-11-17T21:13:08.773Z"
   },
   {
    "duration": 3,
    "start_time": "2021-11-17T21:14:44.441Z"
   },
   {
    "duration": 3,
    "start_time": "2021-11-17T21:15:42.059Z"
   },
   {
    "duration": 4,
    "start_time": "2021-11-17T21:15:51.995Z"
   },
   {
    "duration": 3,
    "start_time": "2021-11-17T21:15:53.923Z"
   },
   {
    "duration": 3,
    "start_time": "2021-11-17T21:15:55.282Z"
   },
   {
    "duration": 3,
    "start_time": "2021-11-17T21:16:28.492Z"
   },
   {
    "duration": 3,
    "start_time": "2021-11-17T21:16:32.603Z"
   },
   {
    "duration": 3,
    "start_time": "2021-11-17T21:17:06.941Z"
   },
   {
    "duration": 98,
    "start_time": "2021-11-17T21:18:05.733Z"
   },
   {
    "duration": 4,
    "start_time": "2021-11-17T21:21:35.255Z"
   },
   {
    "duration": 3,
    "start_time": "2021-11-17T21:21:37.804Z"
   },
   {
    "duration": 4,
    "start_time": "2021-11-17T21:23:06.071Z"
   },
   {
    "duration": 3,
    "start_time": "2021-11-17T21:23:24.799Z"
   },
   {
    "duration": 3,
    "start_time": "2021-11-17T21:23:32.591Z"
   },
   {
    "duration": 98,
    "start_time": "2021-11-17T21:28:31.559Z"
   },
   {
    "duration": 3,
    "start_time": "2021-11-17T21:28:45.448Z"
   },
   {
    "duration": 3,
    "start_time": "2021-11-17T21:29:17.303Z"
   },
   {
    "duration": 3,
    "start_time": "2021-11-17T21:29:29.617Z"
   },
   {
    "duration": 3,
    "start_time": "2021-11-17T21:29:32.681Z"
   },
   {
    "duration": 3,
    "start_time": "2021-11-17T21:36:11.474Z"
   },
   {
    "duration": 3,
    "start_time": "2021-11-17T21:36:14.791Z"
   },
   {
    "duration": 3,
    "start_time": "2021-11-17T21:36:53.943Z"
   },
   {
    "duration": 3,
    "start_time": "2021-11-17T21:36:56.165Z"
   },
   {
    "duration": 4,
    "start_time": "2021-11-17T21:37:16.590Z"
   },
   {
    "duration": 3,
    "start_time": "2021-11-17T21:37:22.702Z"
   },
   {
    "duration": 4,
    "start_time": "2021-11-17T21:38:03.479Z"
   },
   {
    "duration": 3,
    "start_time": "2021-11-17T21:38:08.601Z"
   },
   {
    "duration": 3,
    "start_time": "2021-11-17T21:38:12.928Z"
   },
   {
    "duration": 3,
    "start_time": "2021-11-17T21:38:48.896Z"
   },
   {
    "duration": 2,
    "start_time": "2021-11-17T21:38:49.171Z"
   },
   {
    "duration": 4,
    "start_time": "2021-11-17T21:39:57.889Z"
   },
   {
    "duration": 3,
    "start_time": "2021-11-17T21:39:58.057Z"
   },
   {
    "duration": 3,
    "start_time": "2021-11-17T21:41:20.108Z"
   },
   {
    "duration": 3,
    "start_time": "2021-11-17T21:41:20.629Z"
   },
   {
    "duration": 3,
    "start_time": "2021-11-17T21:42:49.136Z"
   },
   {
    "duration": 3,
    "start_time": "2021-11-17T21:43:15.137Z"
   },
   {
    "duration": 4,
    "start_time": "2021-11-17T21:43:16.766Z"
   },
   {
    "duration": 4,
    "start_time": "2021-11-17T21:43:31.711Z"
   },
   {
    "duration": 3,
    "start_time": "2021-11-17T21:43:36.312Z"
   },
   {
    "duration": 4,
    "start_time": "2021-11-17T21:45:08.825Z"
   },
   {
    "duration": 4,
    "start_time": "2021-11-17T21:45:10.119Z"
   },
   {
    "duration": 4,
    "start_time": "2021-11-17T21:45:13.748Z"
   },
   {
    "duration": 3,
    "start_time": "2021-11-17T21:45:22.219Z"
   },
   {
    "duration": 3,
    "start_time": "2021-11-17T21:45:33.412Z"
   },
   {
    "duration": 2,
    "start_time": "2021-11-17T21:46:01.885Z"
   },
   {
    "duration": 3,
    "start_time": "2021-11-17T21:46:03.628Z"
   },
   {
    "duration": 107,
    "start_time": "2021-11-17T21:47:32.512Z"
   },
   {
    "duration": 103,
    "start_time": "2021-11-17T21:50:36.243Z"
   },
   {
    "duration": 3,
    "start_time": "2021-11-18T06:28:31.440Z"
   },
   {
    "duration": 3,
    "start_time": "2021-11-18T06:29:00.168Z"
   },
   {
    "duration": 3,
    "start_time": "2021-11-18T06:31:27.008Z"
   },
   {
    "duration": 2,
    "start_time": "2021-11-18T06:35:34.288Z"
   },
   {
    "duration": 2,
    "start_time": "2021-11-18T06:38:04.527Z"
   },
   {
    "duration": 2175,
    "start_time": "2025-04-10T19:07:36.522Z"
   },
   {
    "duration": 215,
    "start_time": "2025-04-10T19:08:47.183Z"
   },
   {
    "duration": 117,
    "start_time": "2025-04-10T19:10:14.988Z"
   },
   {
    "duration": 41,
    "start_time": "2025-04-10T19:10:37.587Z"
   },
   {
    "duration": 12,
    "start_time": "2025-04-10T19:11:20.253Z"
   },
   {
    "duration": 429,
    "start_time": "2025-04-10T19:24:03.642Z"
   },
   {
    "duration": 99,
    "start_time": "2025-04-10T19:24:17.498Z"
   },
   {
    "duration": 187,
    "start_time": "2025-04-10T19:40:09.450Z"
   },
   {
    "duration": 54,
    "start_time": "2025-04-10T19:41:27.505Z"
   },
   {
    "duration": 22,
    "start_time": "2025-04-10T19:42:17.363Z"
   },
   {
    "duration": 19,
    "start_time": "2025-04-10T19:42:19.871Z"
   },
   {
    "duration": 9,
    "start_time": "2025-04-10T19:43:23.270Z"
   },
   {
    "duration": 6,
    "start_time": "2025-04-10T19:43:38.522Z"
   },
   {
    "duration": 4,
    "start_time": "2025-04-10T19:46:39.230Z"
   },
   {
    "duration": 4,
    "start_time": "2025-04-10T19:47:03.036Z"
   },
   {
    "duration": 21,
    "start_time": "2025-04-10T19:47:27.183Z"
   },
   {
    "duration": 27,
    "start_time": "2025-04-10T19:47:38.701Z"
   },
   {
    "duration": 5,
    "start_time": "2025-04-10T19:47:50.158Z"
   },
   {
    "duration": 9,
    "start_time": "2025-04-10T19:49:19.057Z"
   },
   {
    "duration": 8,
    "start_time": "2025-04-10T19:49:40.493Z"
   },
   {
    "duration": 15,
    "start_time": "2025-04-10T19:51:26.696Z"
   },
   {
    "duration": 5,
    "start_time": "2025-04-10T19:51:36.253Z"
   },
   {
    "duration": 6,
    "start_time": "2025-04-10T19:52:53.366Z"
   },
   {
    "duration": 21,
    "start_time": "2025-04-10T19:53:49.891Z"
   },
   {
    "duration": 6,
    "start_time": "2025-04-10T19:54:00.628Z"
   },
   {
    "duration": 7,
    "start_time": "2025-04-10T19:54:42.009Z"
   },
   {
    "duration": 9,
    "start_time": "2025-04-10T19:55:25.347Z"
   },
   {
    "duration": 5,
    "start_time": "2025-04-10T19:56:21.453Z"
   },
   {
    "duration": 23,
    "start_time": "2025-04-10T19:57:54.965Z"
   },
   {
    "duration": 18,
    "start_time": "2025-04-10T19:58:18.878Z"
   },
   {
    "duration": 17,
    "start_time": "2025-04-10T19:58:33.997Z"
   },
   {
    "duration": 16,
    "start_time": "2025-04-10T19:58:51.254Z"
   },
   {
    "duration": 17,
    "start_time": "2025-04-10T19:59:35.413Z"
   },
   {
    "duration": 11,
    "start_time": "2025-04-10T19:59:56.422Z"
   },
   {
    "duration": 6,
    "start_time": "2025-04-10T20:00:40.649Z"
   },
   {
    "duration": 9,
    "start_time": "2025-04-10T20:01:36.836Z"
   },
   {
    "duration": 261,
    "start_time": "2025-04-10T20:02:01.155Z"
   },
   {
    "duration": 45,
    "start_time": "2025-04-10T20:02:16.095Z"
   },
   {
    "duration": 6,
    "start_time": "2025-04-10T20:03:01.991Z"
   },
   {
    "duration": 801,
    "start_time": "2025-04-10T20:05:36.040Z"
   },
   {
    "duration": 234,
    "start_time": "2025-04-10T20:05:48.493Z"
   },
   {
    "duration": 8,
    "start_time": "2025-04-10T20:05:58.042Z"
   },
   {
    "duration": 112,
    "start_time": "2025-04-10T20:06:07.923Z"
   },
   {
    "duration": 244,
    "start_time": "2025-04-10T20:07:08.569Z"
   },
   {
    "duration": 345,
    "start_time": "2025-04-10T20:07:17.543Z"
   },
   {
    "duration": 8,
    "start_time": "2025-04-10T20:10:15.711Z"
   },
   {
    "duration": 117,
    "start_time": "2025-04-10T20:10:37.453Z"
   },
   {
    "duration": 7,
    "start_time": "2025-04-10T20:11:58.984Z"
   },
   {
    "duration": 119,
    "start_time": "2025-04-10T20:12:16.322Z"
   },
   {
    "duration": 247,
    "start_time": "2025-04-10T20:12:33.884Z"
   },
   {
    "duration": 7,
    "start_time": "2025-04-10T20:13:36.958Z"
   },
   {
    "duration": 17,
    "start_time": "2025-04-10T20:15:01.504Z"
   },
   {
    "duration": 446,
    "start_time": "2025-04-10T20:17:06.236Z"
   },
   {
    "duration": 208,
    "start_time": "2025-04-10T20:17:06.684Z"
   },
   {
    "duration": 46,
    "start_time": "2025-04-10T20:17:06.894Z"
   },
   {
    "duration": 13,
    "start_time": "2025-04-10T20:17:06.942Z"
   },
   {
    "duration": 53,
    "start_time": "2025-04-10T20:17:06.958Z"
   },
   {
    "duration": 21,
    "start_time": "2025-04-10T20:17:07.012Z"
   },
   {
    "duration": 10,
    "start_time": "2025-04-10T20:17:07.036Z"
   },
   {
    "duration": 8,
    "start_time": "2025-04-10T20:17:07.048Z"
   },
   {
    "duration": 3,
    "start_time": "2025-04-10T20:17:07.058Z"
   },
   {
    "duration": 4,
    "start_time": "2025-04-10T20:17:07.062Z"
   },
   {
    "duration": 62,
    "start_time": "2025-04-10T20:17:07.068Z"
   },
   {
    "duration": 5,
    "start_time": "2025-04-10T20:17:07.132Z"
   },
   {
    "duration": 4,
    "start_time": "2025-04-10T20:17:07.138Z"
   },
   {
    "duration": 7,
    "start_time": "2025-04-10T20:17:07.145Z"
   },
   {
    "duration": 14,
    "start_time": "2025-04-10T20:17:07.154Z"
   },
   {
    "duration": 5,
    "start_time": "2025-04-10T20:17:07.169Z"
   },
   {
    "duration": 34,
    "start_time": "2025-04-10T20:17:07.176Z"
   },
   {
    "duration": 3,
    "start_time": "2025-04-10T20:17:07.212Z"
   },
   {
    "duration": 20,
    "start_time": "2025-04-10T20:17:07.217Z"
   },
   {
    "duration": 5,
    "start_time": "2025-04-10T20:17:07.238Z"
   },
   {
    "duration": 7,
    "start_time": "2025-04-10T20:17:07.244Z"
   },
   {
    "duration": 4,
    "start_time": "2025-04-10T20:17:07.253Z"
   },
   {
    "duration": 5,
    "start_time": "2025-04-10T20:17:07.259Z"
   },
   {
    "duration": 58,
    "start_time": "2025-04-10T20:17:07.265Z"
   },
   {
    "duration": 17,
    "start_time": "2025-04-10T20:17:07.325Z"
   },
   {
    "duration": 15,
    "start_time": "2025-04-10T20:17:07.345Z"
   },
   {
    "duration": 16,
    "start_time": "2025-04-10T20:17:07.361Z"
   },
   {
    "duration": 40,
    "start_time": "2025-04-10T20:17:07.379Z"
   },
   {
    "duration": 9,
    "start_time": "2025-04-10T20:17:07.421Z"
   },
   {
    "duration": 213,
    "start_time": "2025-04-10T20:17:07.431Z"
   },
   {
    "duration": 0,
    "start_time": "2025-04-10T20:17:07.646Z"
   },
   {
    "duration": 0,
    "start_time": "2025-04-10T20:17:07.647Z"
   },
   {
    "duration": 0,
    "start_time": "2025-04-10T20:17:07.649Z"
   },
   {
    "duration": 0,
    "start_time": "2025-04-10T20:17:07.650Z"
   },
   {
    "duration": 0,
    "start_time": "2025-04-10T20:17:07.651Z"
   },
   {
    "duration": 0,
    "start_time": "2025-04-10T20:17:07.653Z"
   },
   {
    "duration": 0,
    "start_time": "2025-04-10T20:17:07.654Z"
   },
   {
    "duration": 0,
    "start_time": "2025-04-10T20:17:07.655Z"
   },
   {
    "duration": 0,
    "start_time": "2025-04-10T20:17:07.655Z"
   },
   {
    "duration": 0,
    "start_time": "2025-04-10T20:17:07.656Z"
   },
   {
    "duration": 0,
    "start_time": "2025-04-10T20:17:07.658Z"
   },
   {
    "duration": 0,
    "start_time": "2025-04-10T20:17:07.659Z"
   },
   {
    "duration": 0,
    "start_time": "2025-04-10T20:17:07.660Z"
   },
   {
    "duration": 13,
    "start_time": "2025-04-10T20:25:44.966Z"
   },
   {
    "duration": 2330,
    "start_time": "2025-04-10T23:31:04.179Z"
   },
   {
    "duration": 224,
    "start_time": "2025-04-10T23:31:06.512Z"
   },
   {
    "duration": 43,
    "start_time": "2025-04-10T23:31:06.738Z"
   },
   {
    "duration": 12,
    "start_time": "2025-04-10T23:31:06.783Z"
   },
   {
    "duration": 52,
    "start_time": "2025-04-10T23:31:06.798Z"
   },
   {
    "duration": 19,
    "start_time": "2025-04-10T23:31:06.852Z"
   },
   {
    "duration": 9,
    "start_time": "2025-04-10T23:31:06.873Z"
   },
   {
    "duration": 6,
    "start_time": "2025-04-10T23:31:06.884Z"
   },
   {
    "duration": 4,
    "start_time": "2025-04-10T23:31:06.892Z"
   },
   {
    "duration": 34,
    "start_time": "2025-04-10T23:31:06.899Z"
   },
   {
    "duration": 29,
    "start_time": "2025-04-10T23:31:06.935Z"
   },
   {
    "duration": 5,
    "start_time": "2025-04-10T23:31:06.965Z"
   },
   {
    "duration": 3,
    "start_time": "2025-04-10T23:31:06.972Z"
   },
   {
    "duration": 7,
    "start_time": "2025-04-10T23:31:06.979Z"
   },
   {
    "duration": 15,
    "start_time": "2025-04-10T23:31:06.988Z"
   },
   {
    "duration": 5,
    "start_time": "2025-04-10T23:31:07.031Z"
   },
   {
    "duration": 6,
    "start_time": "2025-04-10T23:31:07.038Z"
   },
   {
    "duration": 4,
    "start_time": "2025-04-10T23:31:07.045Z"
   },
   {
    "duration": 21,
    "start_time": "2025-04-10T23:31:07.050Z"
   },
   {
    "duration": 6,
    "start_time": "2025-04-10T23:31:07.073Z"
   },
   {
    "duration": 7,
    "start_time": "2025-04-10T23:31:07.081Z"
   },
   {
    "duration": 5,
    "start_time": "2025-04-10T23:31:07.089Z"
   },
   {
    "duration": 5,
    "start_time": "2025-04-10T23:31:07.130Z"
   },
   {
    "duration": 23,
    "start_time": "2025-04-10T23:31:07.137Z"
   },
   {
    "duration": 14,
    "start_time": "2025-04-10T23:31:07.161Z"
   },
   {
    "duration": 15,
    "start_time": "2025-04-10T23:31:07.177Z"
   },
   {
    "duration": 38,
    "start_time": "2025-04-10T23:31:07.194Z"
   },
   {
    "duration": 16,
    "start_time": "2025-04-10T23:31:07.234Z"
   },
   {
    "duration": 9,
    "start_time": "2025-04-10T23:31:07.252Z"
   },
   {
    "duration": 11,
    "start_time": "2025-04-10T23:31:07.262Z"
   },
   {
    "duration": 791,
    "start_time": "2025-04-10T23:31:07.274Z"
   },
   {
    "duration": 233,
    "start_time": "2025-04-10T23:31:08.067Z"
   },
   {
    "duration": 9,
    "start_time": "2025-04-10T23:31:08.302Z"
   },
   {
    "duration": 184,
    "start_time": "2025-04-10T23:31:08.312Z"
   },
   {
    "duration": 236,
    "start_time": "2025-04-10T23:31:08.498Z"
   },
   {
    "duration": 246,
    "start_time": "2025-04-10T23:31:08.736Z"
   },
   {
    "duration": 9,
    "start_time": "2025-04-10T23:31:08.983Z"
   },
   {
    "duration": 131,
    "start_time": "2025-04-10T23:31:08.994Z"
   },
   {
    "duration": 7,
    "start_time": "2025-04-10T23:31:09.130Z"
   },
   {
    "duration": 128,
    "start_time": "2025-04-10T23:31:09.139Z"
   },
   {
    "duration": 249,
    "start_time": "2025-04-10T23:31:09.271Z"
   },
   {
    "duration": 12,
    "start_time": "2025-04-10T23:31:09.521Z"
   },
   {
    "duration": 12,
    "start_time": "2025-04-10T23:31:09.534Z"
   },
   {
    "duration": 2107,
    "start_time": "2025-04-11T18:10:53.512Z"
   },
   {
    "duration": 222,
    "start_time": "2025-04-11T18:10:55.621Z"
   },
   {
    "duration": 43,
    "start_time": "2025-04-11T18:10:55.845Z"
   },
   {
    "duration": 12,
    "start_time": "2025-04-11T18:10:55.890Z"
   },
   {
    "duration": 56,
    "start_time": "2025-04-11T18:10:55.905Z"
   },
   {
    "duration": 18,
    "start_time": "2025-04-11T18:10:55.963Z"
   },
   {
    "duration": 7,
    "start_time": "2025-04-11T18:10:55.983Z"
   },
   {
    "duration": 6,
    "start_time": "2025-04-11T18:10:55.992Z"
   },
   {
    "duration": 5,
    "start_time": "2025-04-11T18:10:55.999Z"
   },
   {
    "duration": 27,
    "start_time": "2025-04-11T18:10:56.006Z"
   },
   {
    "duration": 31,
    "start_time": "2025-04-11T18:10:56.034Z"
   },
   {
    "duration": 6,
    "start_time": "2025-04-11T18:10:56.067Z"
   },
   {
    "duration": 4,
    "start_time": "2025-04-11T18:10:56.074Z"
   },
   {
    "duration": 7,
    "start_time": "2025-04-11T18:10:56.082Z"
   },
   {
    "duration": 40,
    "start_time": "2025-04-11T18:10:56.091Z"
   },
   {
    "duration": 5,
    "start_time": "2025-04-11T18:10:56.133Z"
   },
   {
    "duration": 6,
    "start_time": "2025-04-11T18:10:56.140Z"
   },
   {
    "duration": 3,
    "start_time": "2025-04-11T18:10:56.148Z"
   },
   {
    "duration": 21,
    "start_time": "2025-04-11T18:10:56.152Z"
   },
   {
    "duration": 5,
    "start_time": "2025-04-11T18:10:56.175Z"
   },
   {
    "duration": 8,
    "start_time": "2025-04-11T18:10:56.182Z"
   },
   {
    "duration": 5,
    "start_time": "2025-04-11T18:10:56.192Z"
   },
   {
    "duration": 7,
    "start_time": "2025-04-11T18:10:56.235Z"
   },
   {
    "duration": 23,
    "start_time": "2025-04-11T18:10:56.244Z"
   },
   {
    "duration": 14,
    "start_time": "2025-04-11T18:10:56.269Z"
   },
   {
    "duration": 16,
    "start_time": "2025-04-11T18:10:56.285Z"
   },
   {
    "duration": 43,
    "start_time": "2025-04-11T18:10:56.302Z"
   },
   {
    "duration": 17,
    "start_time": "2025-04-11T18:10:56.347Z"
   },
   {
    "duration": 10,
    "start_time": "2025-04-11T18:10:56.365Z"
   },
   {
    "duration": 12,
    "start_time": "2025-04-11T18:10:56.377Z"
   },
   {
    "duration": 776,
    "start_time": "2025-04-11T18:10:56.390Z"
   },
   {
    "duration": 284,
    "start_time": "2025-04-11T18:10:57.167Z"
   },
   {
    "duration": 8,
    "start_time": "2025-04-11T18:10:57.453Z"
   },
   {
    "duration": 123,
    "start_time": "2025-04-11T18:10:57.462Z"
   },
   {
    "duration": 238,
    "start_time": "2025-04-11T18:10:57.587Z"
   },
   {
    "duration": 237,
    "start_time": "2025-04-11T18:10:57.831Z"
   },
   {
    "duration": 7,
    "start_time": "2025-04-11T18:10:58.070Z"
   },
   {
    "duration": 128,
    "start_time": "2025-04-11T18:10:58.079Z"
   },
   {
    "duration": 8,
    "start_time": "2025-04-11T18:10:58.209Z"
   },
   {
    "duration": 126,
    "start_time": "2025-04-11T18:10:58.219Z"
   },
   {
    "duration": 246,
    "start_time": "2025-04-11T18:10:58.350Z"
   },
   {
    "duration": 8,
    "start_time": "2025-04-11T18:10:58.598Z"
   },
   {
    "duration": 29,
    "start_time": "2025-04-11T18:10:58.608Z"
   },
   {
    "duration": 388,
    "start_time": "2025-04-11T18:20:00.141Z"
   },
   {
    "duration": 344,
    "start_time": "2025-04-11T18:21:24.927Z"
   },
   {
    "duration": 362,
    "start_time": "2025-04-11T18:22:36.479Z"
   },
   {
    "duration": 336,
    "start_time": "2025-04-11T18:23:41.717Z"
   },
   {
    "duration": 5,
    "start_time": "2025-04-11T18:26:39.967Z"
   },
   {
    "duration": 4,
    "start_time": "2025-04-11T18:26:47.262Z"
   },
   {
    "duration": 5,
    "start_time": "2025-04-11T18:26:54.593Z"
   }
  ],
  "colab": {
   "provenance": []
  },
  "kernelspec": {
   "display_name": "Python 3 (ipykernel)",
   "language": "python",
   "name": "python3"
  },
  "language_info": {
   "codemirror_mode": {
    "name": "ipython",
    "version": 3
   },
   "file_extension": ".py",
   "mimetype": "text/x-python",
   "name": "python",
   "nbconvert_exporter": "python",
   "pygments_lexer": "ipython3",
   "version": "3.9.19"
  },
  "toc": {
   "base_numbering": 1,
   "nav_menu": {},
   "number_sections": true,
   "sideBar": true,
   "skip_h1_title": false,
   "title_cell": "Table of Contents",
   "title_sidebar": "Contents",
   "toc_cell": false,
   "toc_position": {},
   "toc_section_display": true,
   "toc_window_display": true
  }
 },
 "nbformat": 4,
 "nbformat_minor": 1
}
