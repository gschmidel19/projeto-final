{
 "cells": [
  {
   "cell_type": "markdown",
   "metadata": {
    "id": "vLW81iYmTMRe"
   },
   "source": [
    "# Quiz\n",
    "\n",
    "A Store 1 visa garantir a consistência na coleta de dados. Como parte desse esforço, a qualidade dos dados coletados sobre os usuários precisa ser avaliada. Foi pedido que você revise os dados coletados e proponha alterações. Abaixo, você verá dados sobre um determinado usuário. Revise os dados e identifique possíveis problemas."
   ]
  },
  {
   "cell_type": "code",
   "execution_count": null,
   "metadata": {
    "id": "i7_O27ZRTMRe",
    "trusted": true
   },
   "outputs": [],
   "source": [
    "user_id = '32415'\n",
    "user_name = ' mike_reed '\n",
    "user_age = 32.0\n",
    "fav_categories = ['ELECTRONICS', 'SPORT', 'BOOKS']"
   ]
  },
  {
   "cell_type": "markdown",
   "metadata": {
    "id": "Dyjbn7MhTMRg"
   },
   "source": [
    "**Opções:**\n",
    "\n",
    "1. O tipo de dados de `user_id` deve ser alterado de string para número inteiro (integer).\n",
    "    \n",
    "2. A variável `user_name` contém uma string com espaçamento desnecessário e um sublinhado entre o nome e o sobrenome.\n",
    "    \n",
    "3. O tipo de dados de `user_age` está incorreto.\n",
    "    \n",
    "4. A lista `fav_categories` contém strings em letras maiúsculas. Em vez disso, devemos converter os valores da lista para letras minúsculas."
   ]
  },
  {
   "cell_type": "markdown",
   "metadata": {
    "id": "AIsnk-vCTMRg"
   },
   "source": [
    "Escreva na célula Markdown abaixo o número de opções que você identificou como problemas. Se você identificou vários problemas, separe o número por vírgulas. Por exemplo, se você acha que os números 1 e 3 estão incorretos, escreva 1, 3, e explique o motivo."
   ]
  },
  {
   "cell_type": "markdown",
   "metadata": {
    "id": "70wSe_MjTMRh"
   },
   "source": [
    "**Escreva sua resposta e explique seu raciocínio:**\n",
    "\n",
    "1. A afirmação está correta. Se tratando de \"user_id\" o ideal é que a variável seja um \"int\" e não uma string. Essa modificação pode ser feita atrasvés da\n",
    "\n",
    "2. Correto, é necessário retirar o espaçamento no incio da string.\n",
    "\n",
    "3. Correto. O ideal seria que o \"user_agr\" fosse um variável do tipo \"int\" e não \"float\". Contudo, acredito que em alguns casos, a variável no tipo float possa ser interessante caso o contratante queira saber quem é o cliente mais antigo de fato, isso levaria em consideração os meses e dias do cliente. Mas isso seria uma exceção.\n",
    "\n",
    "4. Por se tratar de categorias, não vejo problema em manter a nomeclatura com letras maiúsculas."
   ]
  },
  {
   "cell_type": "markdown",
   "metadata": {
    "id": "IH19D6NiTMRh"
   },
   "source": [
    "# Tarefa 1\n",
    "\n",
    "Vamos implementar as mudanças que identificamos. Primeiro, queremos corrigir os problemas com a variável `user_name`. Como verificamos, ela possui espaços desnecessários e um sublinhado como separador entre o nome e o sobrenome. Seu objetivo é remover os espaços e depois substituir o sublinhado por espaço."
   ]
  },
  {
   "cell_type": "code",
   "execution_count": 3,
   "metadata": {
    "id": "HxZLfyLeTMRh",
    "trusted": true
   },
   "outputs": [
    {
     "name": "stdout",
     "output_type": "stream",
     "text": [
      "mike reed\n"
     ]
    }
   ],
   "source": [
    "user_name = ' mike_reed '\n",
    "user_name = user_name.strip() # remova os espaços na string original\n",
    "user_name = user_name.replace('_', ' ')# substitua o sublinhado por espaço\n",
    "\n",
    "print(user_name)"
   ]
  },
  {
   "cell_type": "markdown",
   "metadata": {
    "id": "LYGHRijzTMRi"
   },
   "source": [
    "# Tarefa 2\n",
    "\n",
    "Em seguida, precisamos dividir o `user_name` atualizado em duas substrings para obter uma lista que contém dois valores: a string para o nome e a string para o sobrenome."
   ]
  },
  {
   "cell_type": "code",
   "execution_count": 4,
   "metadata": {
    "id": "NOErvTX0TMRi",
    "trusted": true
   },
   "outputs": [
    {
     "name": "stdout",
     "output_type": "stream",
     "text": [
      "['mike', 'reed']\n"
     ]
    }
   ],
   "source": [
    "user_name = 'mike reed'\n",
    "name_split = user_name.split()# divida a string user_name aqui\n",
    "\n",
    "print(name_split)"
   ]
  },
  {
   "cell_type": "markdown",
   "metadata": {
    "id": "9uRRxzLlTMRj"
   },
   "source": [
    "# Tarefa 3\n",
    "\n",
    "Ótimo! Agora queremos trabalhar com a variável `user_age`. Como mencionamos antes, ela possui um tipo de dados incorretos. Vamos corrigir esse problema transformando o tipo de dados e imprimindo o resultado final."
   ]
  },
  {
   "cell_type": "code",
   "execution_count": 6,
   "metadata": {
    "id": "j9TH2Z4dTMRk",
    "trusted": true
   },
   "outputs": [
    {
     "name": "stdout",
     "output_type": "stream",
     "text": [
      "32\n"
     ]
    }
   ],
   "source": [
    "user_age = 32.0\n",
    "user_age = int(user_age)# altere o tipo de dados da idade de um usuário\n",
    "\n",
    "print(user_age)"
   ]
  },
  {
   "cell_type": "markdown",
   "metadata": {
    "id": "pAjBZI5_TMRk"
   },
   "source": [
    "# Tarefa 4\n",
    "\n",
    "Como sabemos, os dados nem sempre são perfeitos. Temos que considerar cenários em que o valor de `user_age` não pode ser convertido em um número inteiro. Para evitar que nosso sistema falhe, devemos tomar medidas com antecedência.\n",
    "\n",
    "Escreva um código que tenta converter a variável `user_age` em um número inteiro e atribua o valor transformado a `user_age_int`. Se a tentativa falhar, vamos exibir uma mensagem solicitando que o usuário forneça sua idade como um valor numérico com a mensagem: `Forneça sua idade como um valor numérico.`"
   ]
  },
  {
   "cell_type": "code",
   "execution_count": 1,
   "metadata": {
    "id": "rB6ggdMXTMRl",
    "trusted": true
   },
   "outputs": [
    {
     "name": "stdout",
     "output_type": "stream",
     "text": [
      "Forneça sua idade como um valor numérico.\n"
     ]
    }
   ],
   "source": [
    "user_age = 'thirty two' # esta é a variável que armazena a idade como uma string.\n",
    "\n",
    "\n",
    "\n",
    "try:\n",
    "    user_age_int = int(user_age)\n",
    "    print(f\"Sua idade em número inteiro é: {user_age_int}\")\n",
    "except ValueError:\n",
    "    print(\"Forneça sua idade como um valor numérico.\")\n",
    "    \n",
    "    #pra mim, foi o exercicio que mais tive dificuldade, eu literalmente fui testando os metodos até funcionar.\n",
    "    # escreva um código que vai tentar transformar user_age em um número inteiro e, se falhar, vai imprimir a mensagem especificada"
   ]
  },
  {
   "cell_type": "markdown",
   "metadata": {
    "id": "mRiGSPmOTMRl"
   },
   "source": [
    "# Tarefa 5\n",
    "\n",
    "Por fim, observe que todas as categorias de favoritos são armazenadas em letras maiúsculas. Para preencher uma nova lista chamada `fav_categories_low` com as mesmas categorias, mas em letras minúsculas, repita os valores na lista `fav_categories`, os modifique e anexe os novos valores à lista `fav_categories_low`. Como sempre, imprima o resultado final."
   ]
  },
  {
   "cell_type": "code",
   "execution_count": 2,
   "metadata": {
    "id": "WpeCezPvTMRl",
    "trusted": true
   },
   "outputs": [
    {
     "name": "stdout",
     "output_type": "stream",
     "text": [
      "['electronics', 'sport', 'books']\n"
     ]
    }
   ],
   "source": [
    "fav_categories = ['ELECTRONICS', 'SPORT', 'BOOKS']\n",
    "fav_categories_low = [cat.lower() for cat in fav_categories] \n",
    "#escreva seu código aqui\n",
    "\n",
    "# não remova a instrução de impressão abaixo\n",
    "print(fav_categories_low)"
   ]
  },
  {
   "cell_type": "code",
   "execution_count": 16,
   "metadata": {
    "id": "FJrkCnPTTMRm",
    "trusted": true
   },
   "outputs": [
    {
     "name": "stdout",
     "output_type": "stream",
     "text": [
      "1280\n",
      "894\n",
      "173\n"
     ]
    }
   ],
   "source": [
    "fav_categories_low = ['electronics', 'sport', 'books']\n",
    "spendings_per_category = [894, 213, 173]\n",
    "\n",
    "total_amount = sum(spendings_per_category)# escreva seu código aqui\n",
    "max_amount = max(spendings_per_category)# escreva seu código aqui\n",
    "min_amount = min(spendings_per_category)# escreva seu código aqui\n",
    "\n",
    "# não remova a instrução de impressão abaixo\n",
    "print(total_amount)\n",
    "print(max_amount)\n",
    "print(min_amount)"
   ]
  },
  {
   "cell_type": "markdown",
   "metadata": {
    "id": "teiKWjy4TMRn"
   },
   "source": [
    "# Tarefa 7\n",
    "\n",
    "A empresa quer oferecer descontos aos seus clientes fiéis. Clientes que fizerem compras totalizando mais de $1.500 são considerados fiéis e vão receber um desconto.\n",
    "\n",
    "Nosso objetivo é criar um ciclo `while` que verifique o valor total gasto e pare quando ele for atingido. Para simular novas compras, a variável `new_purchase` gera um número entre 30 e 80 em cada ciclo. Isso representa a quantidade de dinheiro gasto em uma nova compra, e é o que você precisa adicionar ao total.\n",
    "\n",
    "Assim que o valor alvo for atingido e o ciclo `while` for encerrado, o valor final será impresso."
   ]
  },
  {
   "cell_type": "code",
   "execution_count": 4,
   "metadata": {
    "id": "HPvkbyzATMRn",
    "trusted": true
   },
   "outputs": [
    {
     "name": "stdout",
     "output_type": "stream",
     "text": [
      "1517\n"
     ]
    }
   ],
   "source": [
    "from random import randint\n",
    "\n",
    "total_amount_spent = 1280\n",
    "target_amount = 1500\n",
    "\n",
    "while total_amount_spent < 1500: # escreva seu código aqui\n",
    "    new_purchase = randint(30, 80) # geramos um número aleatório de 30 a 80\n",
    "    total_amount_spent += new_purchase # escreva seu código aqui\n",
    "\n",
    "print(total_amount_spent)#só consegui realizara tarefa depis de assistir o webnario, tive bastante dificuldade pra entender essa variação do while.\n",
    "\n"
   ]
  },
  {
   "cell_type": "markdown",
   "metadata": {
    "id": "jwzs5Ad2TMRn"
   },
   "source": [
    "# Tarefa 8\n",
    "\n",
    "Agora temos todas as informações sobre um cliente da maneira que queremos. A administração de uma empresa nos pediu para encontrar uma maneira de resumir toda a informação sobre um usuário. Seu objetivo é criar uma string formatada que usa informações das variáveis ​​`user_id`, `user_name` e `user_age`.\n",
    "\n",
    "Aqui está a string final que queremos criar: `Usuário 32415 chama-se mike e tem 32 anos.`"
   ]
  },
  {
   "cell_type": "code",
   "execution_count": 6,
   "metadata": {
    "id": "Da4RJ_gLTMRo",
    "trusted": true
   },
   "outputs": [
    {
     "name": "stdout",
     "output_type": "stream",
     "text": [
      "Usuário 32415 chama-se mike e tem 32 anos.\n"
     ]
    }
   ],
   "source": [
    "user_id = '32415'\n",
    "user_name = ['mike', 'reed']\n",
    "user_age = 32\n",
    "\n",
    "user_info = f\"Usuário {user_id} chama-se {user_name[0]} e tem {user_age} anos.\"# escreva seu código aqui\n",
    "\n",
    "# não remova a instrução de impressão abaixo\n",
    "print(user_info)"
   ]
  },
  {
   "cell_type": "markdown",
   "metadata": {
    "id": "ZAN1CrBGTMRp"
   },
   "source": [
    "# Tarefa 9\n",
    "\n",
    "Para calcular a receita da empresa, siga estas etapas:\n",
    "\n",
    "1. Use um ciclo `for` para iterar na lista `users`.\n",
    "2. Extraia a lista de gastos de cada usuário e some os valores.\n",
    "3. Atualize o valor da receita com o total de cada usuário.\n",
    "\n",
    "Isso vai fornecer a receita total da empresa, que você vai imprimir no final."
   ]
  },
  {
   "cell_type": "code",
   "execution_count": 68,
   "metadata": {
    "id": "ehCh9ub0TMRp",
    "trusted": true
   },
   "outputs": [
    {
     "name": "stdout",
     "output_type": "stream",
     "text": [
      "2109\n"
     ]
    }
   ],
   "source": [
    "users = [\n",
    "\t  # este é o começo da primeira sublista\n",
    "    ['32415', ['mike', 'reed'], 32, ['electronics', 'sport', 'books'],\n",
    "        [894, 213, 173]\n",
    "    ], # este é o fim da primeira sublista\n",
    "\n",
    "    # este é o começo da segunda sublista\n",
    "    ['31980', ['kate', 'morgan'], 24, ['clothes', 'shoes'],\n",
    "        [439, 390]\n",
    "    ] # este é o fim da segunda sublista\n",
    "]\n",
    "\n",
    "revenue = 0\n",
    "\n",
    "for user in users:\n",
    "\tspendings_list = user[4]# extraia a lista de gastos para cada usuário e some os valores\n",
    "\ttotal_spendings = sum(spendings_list)# some os gastos em todas as categorias para obter um total para um usuário específico\n",
    "\trevenue += total_spendings # atualize a receita\n",
    "\n",
    "# não remova a instrução de impressão abaixo\n",
    "print(revenue)\n"
   ]
  },
  {
   "cell_type": "markdown",
   "metadata": {
    "id": "sWwO-Qa1TMRp"
   },
   "source": [
    "# Tarefa 10\n",
    "\n",
    "Use um ciclo for para percorrer a lista de usuários que fornecemos e imprima os nomes dos clientes com menos de 30 anos."
   ]
  },
  {
   "cell_type": "code",
   "execution_count": 90,
   "metadata": {
    "id": "dRl-c6NvTMRq",
    "trusted": true
   },
   "outputs": [
    {
     "name": "stdout",
     "output_type": "stream",
     "text": [
      "kate morgan\n",
      "samantha smith\n",
      "emily brown\n",
      "jose martinez\n",
      "james lee\n"
     ]
    }
   ],
   "source": [
    "users = [\n",
    "    ['32415', ['mike', 'reed'], 32, ['electronics', 'sport', 'books'],\n",
    "     [894, 213, 173]],\n",
    "    ['31980', ['kate', 'morgan'], 24, ['clothes', 'books'], [439,\n",
    "     390]],\n",
    "    ['32156', ['john', 'doe'], 37, ['electronics', 'home', 'food'],\n",
    "     [459, 120, 99]],\n",
    "    ['32761', ['samantha', 'smith'], 29, ['clothes', 'electronics',\n",
    "     'beauty'], [299, 679, 85]],\n",
    "    ['32984', ['david', 'white'], 41, ['books', 'home', 'sport'], [234,\n",
    "     329, 243]],\n",
    "    ['33001', ['emily', 'brown'], 26, ['beauty', 'home', 'food'], [213,\n",
    "     659, 79]],\n",
    "    ['33767', ['maria', 'garcia'], 33, ['clothes', 'food', 'beauty'],\n",
    "     [499, 189, 63]],\n",
    "    ['33912', ['jose', 'martinez'], 22, ['sport', 'electronics', 'home'\n",
    "     ], [259, 549, 109]],\n",
    "    ['34009', ['lisa', 'wilson'], 35, ['home', 'books', 'clothes'],\n",
    "     [329, 189, 329]],\n",
    "    ['34278', ['james', 'lee'], 28, ['beauty', 'clothes', 'electronics'\n",
    "     ], [189, 299, 579]],\n",
    "    ]\n",
    "\n",
    "\n",
    "for user in users:\n",
    "    age = user[2]\n",
    "    names = user[1]\n",
    "    if age <30:\n",
    "         print(\" \".join(names))\n",
    "    # escreva seu código aqui"
   ]
  },
  {
   "cell_type": "markdown",
   "metadata": {
    "id": "zicEj6hhTMRq"
   },
   "source": [
    "# Tarefa 11\n",
    "\n",
    "Vamos juntar as tarefas 9 e 10 e imprimir os nomes de usuários com menos de 30 anos com gastos totais acima de 1.000 dólares."
   ]
  },
  {
   "cell_type": "code",
   "execution_count": 84,
   "metadata": {
    "id": "ubyQ0OzeTMRq",
    "trusted": true
   },
   "outputs": [
    {
     "name": "stdout",
     "output_type": "stream",
     "text": [
      "samantha smith\n",
      "james lee\n"
     ]
    }
   ],
   "source": [
    "users = [\n",
    "    ['32415', ['mike', 'reed'], 32, ['electronics', 'sport', 'books'],\n",
    "     [894, 213, 173]],\n",
    "    ['31980', ['kate', 'morgan'], 24, ['clothes', 'books'], [439,\n",
    "     390]],\n",
    "    ['32156', ['john', 'doe'], 37, ['electronics', 'home', 'food'],\n",
    "     [459, 120, 99]],\n",
    "    ['32761', ['samantha', 'smith'], 29, ['clothes', 'electronics',\n",
    "     'beauty'], [299, 679, 85]],\n",
    "    ['32984', ['david', 'white'], 41, ['books', 'home', 'sport'], [234,\n",
    "     329, 243]],\n",
    "    ['33001', ['emily', 'brown'], 26, ['beauty', 'home', 'food'], [213,\n",
    "     659, 79]],\n",
    "    ['33767', ['maria', 'garcia'], 33, ['clothes', 'food', 'beauty'],\n",
    "     [499, 189, 63]],\n",
    "    ['33912', ['jose', 'martinez'], 22, ['sport', 'electronics', 'home'\n",
    "     ], [259, 549, 109]],\n",
    "    ['34009', ['lisa', 'wilson'], 35, ['home', 'books', 'clothes'],\n",
    "     [329, 189, 329]],\n",
    "    ['34278', ['james', 'lee'], 28, ['beauty', 'clothes', 'electronics'\n",
    "     ], [189, 299, 579]],\n",
    "    ]\n",
    "\n",
    "\n",
    "for user in users:\n",
    "    age = user[2]\n",
    "    names = user[1]\n",
    "    gastos = user[-1]\n",
    "    total_gasto = sum(gastos)\n",
    "    if age <30 and total_gasto > 1000:\n",
    "        print(\" \".join(names))"
   ]
  },
  {
   "cell_type": "markdown",
   "metadata": {
    "id": "kQX82mWVTMRr"
   },
   "source": [
    "# Tarefa 12\n",
    "\n",
    "Agora vamos imprimir o nome e a idade de todos os usuários que compraram roupas (clothes). Imprima o nome e a idade na mesma instrução de impressão."
   ]
  },
  {
   "cell_type": "code",
   "execution_count": 91,
   "metadata": {
    "id": "obZTnKq2TMRr",
    "trusted": true
   },
   "outputs": [
    {
     "name": "stdout",
     "output_type": "stream",
     "text": [
      "Nome: kate morgan, Idade: 24\n",
      "Nome: samantha smith, Idade: 29\n",
      "Nome: maria garcia, Idade: 33\n",
      "Nome: lisa wilson, Idade: 35\n",
      "Nome: james lee, Idade: 28\n"
     ]
    }
   ],
   "source": [
    "users = [\n",
    "    ['32415', ['mike', 'reed'], 32, ['electronics', 'sport', 'books'],\n",
    "     [894, 213, 173]],\n",
    "    ['31980', ['kate', 'morgan'], 24, ['clothes', 'books'], [439,\n",
    "     390]],\n",
    "    ['32156', ['john', 'doe'], 37, ['electronics', 'home', 'food'],\n",
    "     [459, 120, 99]],\n",
    "    ['32761', ['samantha', 'smith'], 29, ['clothes', 'electronics',\n",
    "     'beauty'], [299, 679, 85]],\n",
    "    ['32984', ['david', 'white'], 41, ['books', 'home', 'sport'], [234,\n",
    "     329, 243]],\n",
    "    ['33001', ['emily', 'brown'], 26, ['beauty', 'home', 'food'], [213,\n",
    "     659, 79]],\n",
    "    ['33767', ['maria', 'garcia'], 33, ['clothes', 'food', 'beauty'],\n",
    "     [499, 189, 63]],\n",
    "    ['33912', ['jose', 'martinez'], 22, ['sport', 'electronics', 'home'\n",
    "     ], [259, 549, 109]],\n",
    "    ['34009', ['lisa', 'wilson'], 35, ['home', 'books', 'clothes'],\n",
    "     [329, 189, 329]],\n",
    "    ['34278', ['james', 'lee'], 28, ['beauty', 'clothes', 'electronics'\n",
    "     ], [189, 299, 579]],\n",
    "    ]\n",
    "\n",
    "for user in users:\n",
    "    if 'clothes' in user[3]:\n",
    "        print(f\"Nome: {user[1][0]} {user[1][1]}, Idade: {user[2]}\")\n",
    "#escreva seu código aqui"
   ]
  }
 ],
 "metadata": {
  "ExecuteTimeLog": [
   {
    "duration": 9,
    "start_time": "2025-02-13T12:53:14.426Z"
   },
   {
    "duration": 3,
    "start_time": "2025-02-13T12:53:36.233Z"
   },
   {
    "duration": 4,
    "start_time": "2025-02-13T12:54:58.367Z"
   },
   {
    "duration": 3,
    "start_time": "2025-02-13T13:22:14.258Z"
   },
   {
    "duration": 153,
    "start_time": "2025-02-13T13:23:18.698Z"
   },
   {
    "duration": 4,
    "start_time": "2025-02-13T13:23:36.877Z"
   },
   {
    "duration": 12,
    "start_time": "2025-02-13T13:26:33.011Z"
   },
   {
    "duration": 4,
    "start_time": "2025-02-13T13:36:23.101Z"
   },
   {
    "duration": 4,
    "start_time": "2025-02-13T13:36:36.419Z"
   },
   {
    "duration": 12,
    "start_time": "2025-02-13T13:40:20.650Z"
   },
   {
    "duration": 13,
    "start_time": "2025-02-13T13:40:42.621Z"
   },
   {
    "duration": 12,
    "start_time": "2025-02-13T13:42:54.562Z"
   },
   {
    "duration": 12,
    "start_time": "2025-02-13T13:43:33.472Z"
   },
   {
    "duration": 14,
    "start_time": "2025-02-13T13:45:07.045Z"
   },
   {
    "duration": 36,
    "start_time": "2025-02-13T13:45:15.422Z"
   },
   {
    "duration": 3,
    "start_time": "2025-02-13T13:46:02.675Z"
   },
   {
    "duration": 4,
    "start_time": "2025-02-14T12:12:37.760Z"
   },
   {
    "duration": 4,
    "start_time": "2025-02-14T12:12:42.648Z"
   },
   {
    "duration": 4,
    "start_time": "2025-02-14T12:12:49.595Z"
   },
   {
    "duration": 5,
    "start_time": "2025-02-14T12:16:33.346Z"
   },
   {
    "duration": 4,
    "start_time": "2025-02-14T12:16:46.827Z"
   },
   {
    "duration": 12,
    "start_time": "2025-02-14T12:17:16.357Z"
   },
   {
    "duration": 4,
    "start_time": "2025-02-14T12:18:19.289Z"
   },
   {
    "duration": 5,
    "start_time": "2025-02-14T12:22:32.484Z"
   },
   {
    "duration": 4,
    "start_time": "2025-02-14T12:22:38.007Z"
   },
   {
    "duration": 4,
    "start_time": "2025-02-14T12:22:48.308Z"
   },
   {
    "duration": 5,
    "start_time": "2025-02-14T13:31:29.263Z"
   },
   {
    "duration": 12,
    "start_time": "2025-02-14T13:31:35.620Z"
   },
   {
    "duration": 3,
    "start_time": "2025-02-14T13:31:51.407Z"
   },
   {
    "duration": 18,
    "start_time": "2025-02-14T13:32:00.335Z"
   },
   {
    "duration": 4,
    "start_time": "2025-02-14T13:33:36.671Z"
   },
   {
    "duration": 5,
    "start_time": "2025-02-14T13:36:43.485Z"
   },
   {
    "duration": 3,
    "start_time": "2025-02-14T13:36:54.166Z"
   },
   {
    "duration": 5,
    "start_time": "2025-02-14T13:38:40.025Z"
   },
   {
    "duration": 4,
    "start_time": "2025-02-14T13:38:50.878Z"
   },
   {
    "duration": 4,
    "start_time": "2025-02-14T13:39:56.375Z"
   },
   {
    "duration": 3,
    "start_time": "2025-02-14T13:40:25.370Z"
   },
   {
    "duration": 3,
    "start_time": "2025-02-14T13:40:40.636Z"
   },
   {
    "duration": 5,
    "start_time": "2025-02-14T13:44:55.135Z"
   },
   {
    "duration": 7,
    "start_time": "2025-02-14T13:45:06.449Z"
   },
   {
    "duration": 6,
    "start_time": "2025-02-14T13:45:15.290Z"
   },
   {
    "duration": 6,
    "start_time": "2025-02-14T13:45:20.214Z"
   },
   {
    "duration": 7,
    "start_time": "2025-02-14T13:45:23.014Z"
   },
   {
    "duration": 5,
    "start_time": "2025-02-14T13:45:31.526Z"
   },
   {
    "duration": 5,
    "start_time": "2025-02-14T13:46:12.190Z"
   },
   {
    "duration": 6,
    "start_time": "2025-02-14T13:47:39.350Z"
   },
   {
    "duration": 6,
    "start_time": "2025-02-14T13:47:44.584Z"
   },
   {
    "duration": 20,
    "start_time": "2025-02-14T13:47:49.533Z"
   },
   {
    "duration": 6,
    "start_time": "2025-02-14T13:52:22.014Z"
   },
   {
    "duration": 5,
    "start_time": "2025-02-14T13:52:50.690Z"
   },
   {
    "duration": 4,
    "start_time": "2025-02-14T13:55:37.951Z"
   },
   {
    "duration": 3,
    "start_time": "2025-02-14T14:41:03.974Z"
   },
   {
    "duration": 4,
    "start_time": "2025-02-14T14:42:18.482Z"
   },
   {
    "duration": 3,
    "start_time": "2025-02-14T14:42:21.699Z"
   },
   {
    "duration": 4,
    "start_time": "2025-02-14T14:42:38.730Z"
   },
   {
    "duration": 3,
    "start_time": "2025-02-14T14:42:40.270Z"
   },
   {
    "duration": 3,
    "start_time": "2025-02-14T14:42:40.874Z"
   },
   {
    "duration": 3,
    "start_time": "2025-02-14T17:05:06.945Z"
   },
   {
    "duration": 4,
    "start_time": "2025-02-14T17:05:08.175Z"
   },
   {
    "duration": 4,
    "start_time": "2025-02-14T17:05:08.936Z"
   },
   {
    "duration": 3,
    "start_time": "2025-02-14T17:05:09.561Z"
   },
   {
    "duration": 3,
    "start_time": "2025-02-14T17:05:10.131Z"
   },
   {
    "duration": 4,
    "start_time": "2025-02-14T17:05:16.018Z"
   },
   {
    "duration": 5,
    "start_time": "2025-02-14T17:08:51.104Z"
   },
   {
    "duration": 5,
    "start_time": "2025-02-14T17:09:02.391Z"
   },
   {
    "duration": 15,
    "start_time": "2025-02-14T17:20:07.587Z"
   },
   {
    "duration": 14,
    "start_time": "2025-02-14T17:20:31.982Z"
   },
   {
    "duration": 4,
    "start_time": "2025-02-14T17:21:30.876Z"
   },
   {
    "duration": 7,
    "start_time": "2025-02-14T17:24:28.721Z"
   },
   {
    "duration": 21,
    "start_time": "2025-02-14T17:24:54.534Z"
   },
   {
    "duration": 20,
    "start_time": "2025-02-14T17:25:58.653Z"
   },
   {
    "duration": 26,
    "start_time": "2025-02-14T17:26:07.514Z"
   },
   {
    "duration": 20,
    "start_time": "2025-02-14T17:26:22.977Z"
   },
   {
    "duration": 6,
    "start_time": "2025-02-14T17:27:24.455Z"
   },
   {
    "duration": 5,
    "start_time": "2025-02-14T17:28:01.693Z"
   },
   {
    "duration": 7,
    "start_time": "2025-02-14T17:29:49.228Z"
   },
   {
    "duration": 20,
    "start_time": "2025-02-14T17:29:54.085Z"
   },
   {
    "duration": 20,
    "start_time": "2025-02-14T17:30:00.765Z"
   },
   {
    "duration": 6,
    "start_time": "2025-02-14T17:30:43.034Z"
   },
   {
    "duration": 6,
    "start_time": "2025-02-14T17:30:51.265Z"
   },
   {
    "duration": 20,
    "start_time": "2025-02-14T17:31:10.609Z"
   },
   {
    "duration": 6,
    "start_time": "2025-02-14T17:31:34.844Z"
   },
   {
    "duration": 19,
    "start_time": "2025-02-14T17:31:49.900Z"
   },
   {
    "duration": 6,
    "start_time": "2025-02-14T17:32:47.843Z"
   },
   {
    "duration": 10,
    "start_time": "2025-02-14T17:40:19.973Z"
   },
   {
    "duration": 6,
    "start_time": "2025-02-14T17:43:14.248Z"
   },
   {
    "duration": 6,
    "start_time": "2025-02-14T17:43:27.878Z"
   },
   {
    "duration": 5,
    "start_time": "2025-02-14T17:43:32.402Z"
   },
   {
    "duration": 6,
    "start_time": "2025-02-14T17:46:34.277Z"
   },
   {
    "duration": 6,
    "start_time": "2025-02-14T17:46:57.770Z"
   },
   {
    "duration": 6,
    "start_time": "2025-02-14T17:47:14.528Z"
   },
   {
    "duration": 4,
    "start_time": "2025-02-14T17:51:08.271Z"
   },
   {
    "duration": 3,
    "start_time": "2025-02-14T17:51:15.359Z"
   },
   {
    "duration": 6,
    "start_time": "2025-02-17T12:28:07.554Z"
   },
   {
    "duration": 154,
    "start_time": "2025-02-17T12:29:19.935Z"
   },
   {
    "duration": 7,
    "start_time": "2025-02-17T12:30:29.492Z"
   },
   {
    "duration": 3,
    "start_time": "2025-02-17T12:32:21.240Z"
   },
   {
    "duration": 4,
    "start_time": "2025-02-17T12:34:59.071Z"
   },
   {
    "duration": 4,
    "start_time": "2025-02-17T12:35:07.222Z"
   },
   {
    "duration": 4,
    "start_time": "2025-02-17T12:38:48.065Z"
   },
   {
    "duration": 4,
    "start_time": "2025-02-17T12:38:53.682Z"
   },
   {
    "duration": 4,
    "start_time": "2025-02-17T12:39:10.906Z"
   },
   {
    "duration": 5,
    "start_time": "2025-02-17T12:39:23.053Z"
   },
   {
    "duration": 13,
    "start_time": "2025-02-17T12:39:39.903Z"
   },
   {
    "duration": 3,
    "start_time": "2025-02-17T12:40:11.826Z"
   },
   {
    "duration": 5,
    "start_time": "2025-02-17T12:40:45.308Z"
   },
   {
    "duration": 13,
    "start_time": "2025-02-17T12:42:52.295Z"
   },
   {
    "duration": 158,
    "start_time": "2025-02-17T21:08:38.030Z"
   },
   {
    "duration": 4,
    "start_time": "2025-02-17T21:08:45.615Z"
   }
  ],
  "colab": {
   "provenance": []
  },
  "kernelspec": {
   "display_name": "Python 3 (ipykernel)",
   "language": "python",
   "name": "python3"
  },
  "language_info": {
   "codemirror_mode": {
    "name": "ipython",
    "version": 3
   },
   "file_extension": ".py",
   "mimetype": "text/x-python",
   "name": "python",
   "nbconvert_exporter": "python",
   "pygments_lexer": "ipython3",
   "version": "3.9.19"
  },
  "toc": {
   "base_numbering": 1,
   "nav_menu": {},
   "number_sections": true,
   "sideBar": true,
   "skip_h1_title": true,
   "title_cell": "Table of Contents",
   "title_sidebar": "Contents",
   "toc_cell": false,
   "toc_position": {},
   "toc_section_display": true,
   "toc_window_display": false
  }
 },
 "nbformat": 4,
 "nbformat_minor": 1
}
